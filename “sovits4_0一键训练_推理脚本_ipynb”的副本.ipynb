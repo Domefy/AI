{
  "nbformat": 4,
  "nbformat_minor": 0,
  "metadata": {
    "colab": {
      "provenance": [],
      "include_colab_link": true
    },
    "kernelspec": {
      "name": "python3",
      "display_name": "Python 3"
    },
    "language_info": {
      "name": "python"
    },
    "accelerator": "GPU",
    "gpuClass": "standard"
  },
  "cells": [
    {
      "cell_type": "markdown",
      "metadata": {
        "id": "view-in-github",
        "colab_type": "text"
      },
      "source": [
        "<a href=\"https://colab.research.google.com/github/Domefy/AI/blob/main/%E2%80%9Csovits4_0%E4%B8%80%E9%94%AE%E8%AE%AD%E7%BB%83_%E6%8E%A8%E7%90%86%E8%84%9A%E6%9C%AC_ipynb%E2%80%9D%E7%9A%84%E5%89%AF%E6%9C%AC.ipynb\" target=\"_parent\"><img src=\"https://colab.research.google.com/assets/colab-badge.svg\" alt=\"Open In Colab\"/></a>"
      ]
    },
    {
      "cell_type": "code",
      "source": [
        "# 查看显卡\n",
        "!nvidia-smi"
      ],
      "metadata": {
        "colab": {
          "base_uri": "https://localhost:8080/"
        },
        "id": "0gQcIZ8RsOkn",
        "outputId": "b1e6bbf3-ade2-46b9-fb21-1dca5a0a3ee0"
      },
      "execution_count": null,
      "outputs": [
        {
          "output_type": "stream",
          "name": "stdout",
          "text": [
            "Sun Apr 30 13:19:43 2023       \n",
            "+-----------------------------------------------------------------------------+\n",
            "| NVIDIA-SMI 525.85.12    Driver Version: 525.85.12    CUDA Version: 12.0     |\n",
            "|-------------------------------+----------------------+----------------------+\n",
            "| GPU  Name        Persistence-M| Bus-Id        Disp.A | Volatile Uncorr. ECC |\n",
            "| Fan  Temp  Perf  Pwr:Usage/Cap|         Memory-Usage | GPU-Util  Compute M. |\n",
            "|                               |                      |               MIG M. |\n",
            "|===============================+======================+======================|\n",
            "|   0  Tesla T4            Off  | 00000000:00:04.0 Off |                    0 |\n",
            "| N/A   44C    P8    10W /  70W |      0MiB / 15360MiB |      0%      Default |\n",
            "|                               |                      |                  N/A |\n",
            "+-------------------------------+----------------------+----------------------+\n",
            "                                                                               \n",
            "+-----------------------------------------------------------------------------+\n",
            "| Processes:                                                                  |\n",
            "|  GPU   GI   CI        PID   Type   Process name                  GPU Memory |\n",
            "|        ID   ID                                                   Usage      |\n",
            "|=============================================================================|\n",
            "|  No running processes found                                                 |\n",
            "+-----------------------------------------------------------------------------+\n"
          ]
        }
      ]
    },
    {
      "cell_type": "code",
      "execution_count": 1,
      "metadata": {
        "id": "LS0OPRkL4Pme",
        "colab": {
          "base_uri": "https://localhost:8080/"
        },
        "outputId": "5a1648b8-b196-470c-b452-15208d871485"
      },
      "outputs": [
        {
          "output_type": "stream",
          "name": "stdout",
          "text": [
            "Cloning into 'so-vits-svc'...\n",
            "remote: Enumerating objects: 1326, done.\u001b[K\n",
            "remote: Total 1326 (delta 0), reused 0 (delta 0), pack-reused 1326\u001b[K\n",
            "Receiving objects: 100% (1326/1326), 8.46 MiB | 18.39 MiB/s, done.\n",
            "Resolving deltas: 100% (726/726), done.\n"
          ]
        }
      ],
      "source": [
        "#@title 克隆的github仓库\n",
        "!git clone https://github.com/svc-develop-team/so-vits-svc.git -b 4.0\n"
      ]
    },
    {
      "cell_type": "code",
      "source": [
        "#@title 安装依赖\n",
        "%cd /content/so-vits-svc\n",
        "!pip install pyworld praat-parselmouth fairseq\n"
      ],
      "metadata": {
        "id": "zXBLkXxL4T1O",
        "colab": {
          "base_uri": "https://localhost:8080/"
        },
        "outputId": "5ec7b28d-b891-4dc5-d609-e2b727658a6d"
      },
      "execution_count": 2,
      "outputs": [
        {
          "output_type": "stream",
          "name": "stdout",
          "text": [
            "/content/so-vits-svc\n",
            "Looking in indexes: https://pypi.org/simple, https://us-python.pkg.dev/colab-wheels/public/simple/\n",
            "Collecting pyworld\n",
            "  Downloading pyworld-0.3.3.tar.gz (218 kB)\n",
            "\u001b[2K     \u001b[90m━━━━━━━━━━━━━━━━━━━━━━━━━━━━━━━━━━━━━━\u001b[0m \u001b[32m218.7/218.7 kB\u001b[0m \u001b[31m18.0 MB/s\u001b[0m eta \u001b[36m0:00:00\u001b[0m\n",
            "\u001b[?25h  Installing build dependencies ... \u001b[?25l\u001b[?25hdone\n",
            "  Getting requirements to build wheel ... \u001b[?25l\u001b[?25hdone\n",
            "  Preparing metadata (pyproject.toml) ... \u001b[?25l\u001b[?25hdone\n",
            "Collecting praat-parselmouth\n",
            "  Downloading praat_parselmouth-0.4.3-cp310-cp310-manylinux_2_12_x86_64.manylinux2010_x86_64.whl (10.7 MB)\n",
            "\u001b[2K     \u001b[90m━━━━━━━━━━━━━━━━━━━━━━━━━━━━━━━━━━━━━━━━\u001b[0m \u001b[32m10.7/10.7 MB\u001b[0m \u001b[31m89.9 MB/s\u001b[0m eta \u001b[36m0:00:00\u001b[0m\n",
            "\u001b[?25hCollecting fairseq\n",
            "  Downloading fairseq-0.12.2.tar.gz (9.6 MB)\n",
            "\u001b[2K     \u001b[90m━━━━━━━━━━━━━━━━━━━━━━━━━━━━━━━━━━━━━━━━\u001b[0m \u001b[32m9.6/9.6 MB\u001b[0m \u001b[31m94.8 MB/s\u001b[0m eta \u001b[36m0:00:00\u001b[0m\n",
            "\u001b[?25h  Installing build dependencies ... \u001b[?25l\u001b[?25hdone\n",
            "  Getting requirements to build wheel ... \u001b[?25l\u001b[?25hdone\n",
            "  Installing backend dependencies ... \u001b[?25l\u001b[?25hdone\n",
            "  Preparing metadata (pyproject.toml) ... \u001b[?25l\u001b[?25hdone\n",
            "Requirement already satisfied: numpy in /usr/local/lib/python3.10/dist-packages (from pyworld) (1.22.4)\n",
            "Requirement already satisfied: cython>=0.24 in /usr/local/lib/python3.10/dist-packages (from pyworld) (0.29.34)\n",
            "Requirement already satisfied: torch in /usr/local/lib/python3.10/dist-packages (from fairseq) (2.0.0+cu118)\n",
            "Requirement already satisfied: tqdm in /usr/local/lib/python3.10/dist-packages (from fairseq) (4.65.0)\n",
            "Collecting sacrebleu>=1.4.12\n",
            "  Downloading sacrebleu-2.3.1-py3-none-any.whl (118 kB)\n",
            "\u001b[2K     \u001b[90m━━━━━━━━━━━━━━━━━━━━━━━━━━━━━━━━━━━━━━\u001b[0m \u001b[32m118.9/118.9 kB\u001b[0m \u001b[31m17.9 MB/s\u001b[0m eta \u001b[36m0:00:00\u001b[0m\n",
            "\u001b[?25hCollecting bitarray\n",
            "  Downloading bitarray-2.7.3-cp310-cp310-manylinux_2_17_x86_64.manylinux2014_x86_64.whl (272 kB)\n",
            "\u001b[2K     \u001b[90m━━━━━━━━━━━━━━━━━━━━━━━━━━━━━━━━━━━━━━\u001b[0m \u001b[32m272.7/272.7 kB\u001b[0m \u001b[31m30.2 MB/s\u001b[0m eta \u001b[36m0:00:00\u001b[0m\n",
            "\u001b[?25hRequirement already satisfied: regex in /usr/local/lib/python3.10/dist-packages (from fairseq) (2022.10.31)\n",
            "Collecting hydra-core<1.1,>=1.0.7\n",
            "  Downloading hydra_core-1.0.7-py3-none-any.whl (123 kB)\n",
            "\u001b[2K     \u001b[90m━━━━━━━━━━━━━━━━━━━━━━━━━━━━━━━━━━━━━━\u001b[0m \u001b[32m123.8/123.8 kB\u001b[0m \u001b[31m15.7 MB/s\u001b[0m eta \u001b[36m0:00:00\u001b[0m\n",
            "\u001b[?25hCollecting omegaconf<2.1\n",
            "  Downloading omegaconf-2.0.6-py3-none-any.whl (36 kB)\n",
            "Requirement already satisfied: torchaudio>=0.8.0 in /usr/local/lib/python3.10/dist-packages (from fairseq) (2.0.1+cu118)\n",
            "Requirement already satisfied: cffi in /usr/local/lib/python3.10/dist-packages (from fairseq) (1.15.1)\n",
            "Collecting antlr4-python3-runtime==4.8\n",
            "  Downloading antlr4-python3-runtime-4.8.tar.gz (112 kB)\n",
            "\u001b[2K     \u001b[90m━━━━━━━━━━━━━━━━━━━━━━━━━━━━━━━━━━━━━━\u001b[0m \u001b[32m112.4/112.4 kB\u001b[0m \u001b[31m16.8 MB/s\u001b[0m eta \u001b[36m0:00:00\u001b[0m\n",
            "\u001b[?25h  Preparing metadata (setup.py) ... \u001b[?25l\u001b[?25hdone\n",
            "Requirement already satisfied: PyYAML>=5.1.* in /usr/local/lib/python3.10/dist-packages (from omegaconf<2.1->fairseq) (6.0)\n",
            "Requirement already satisfied: typing-extensions in /usr/local/lib/python3.10/dist-packages (from omegaconf<2.1->fairseq) (4.5.0)\n",
            "Requirement already satisfied: tabulate>=0.8.9 in /usr/local/lib/python3.10/dist-packages (from sacrebleu>=1.4.12->fairseq) (0.8.10)\n",
            "Requirement already satisfied: lxml in /usr/local/lib/python3.10/dist-packages (from sacrebleu>=1.4.12->fairseq) (4.9.2)\n",
            "Collecting colorama\n",
            "  Downloading colorama-0.4.6-py2.py3-none-any.whl (25 kB)\n",
            "Collecting portalocker\n",
            "  Downloading portalocker-2.7.0-py2.py3-none-any.whl (15 kB)\n",
            "Requirement already satisfied: triton==2.0.0 in /usr/local/lib/python3.10/dist-packages (from torch->fairseq) (2.0.0)\n",
            "Requirement already satisfied: sympy in /usr/local/lib/python3.10/dist-packages (from torch->fairseq) (1.11.1)\n",
            "Requirement already satisfied: jinja2 in /usr/local/lib/python3.10/dist-packages (from torch->fairseq) (3.1.2)\n",
            "Requirement already satisfied: filelock in /usr/local/lib/python3.10/dist-packages (from torch->fairseq) (3.12.0)\n",
            "Requirement already satisfied: networkx in /usr/local/lib/python3.10/dist-packages (from torch->fairseq) (3.1)\n",
            "Requirement already satisfied: cmake in /usr/local/lib/python3.10/dist-packages (from triton==2.0.0->torch->fairseq) (3.25.2)\n",
            "Requirement already satisfied: lit in /usr/local/lib/python3.10/dist-packages (from triton==2.0.0->torch->fairseq) (16.0.2)\n",
            "Requirement already satisfied: pycparser in /usr/local/lib/python3.10/dist-packages (from cffi->fairseq) (2.21)\n",
            "Requirement already satisfied: MarkupSafe>=2.0 in /usr/local/lib/python3.10/dist-packages (from jinja2->torch->fairseq) (2.1.2)\n",
            "Requirement already satisfied: mpmath>=0.19 in /usr/local/lib/python3.10/dist-packages (from sympy->torch->fairseq) (1.3.0)\n",
            "Building wheels for collected packages: pyworld, fairseq, antlr4-python3-runtime\n",
            "  Building wheel for pyworld (pyproject.toml) ... \u001b[?25l\u001b[?25hdone\n",
            "  Created wheel for pyworld: filename=pyworld-0.3.3-cp310-cp310-linux_x86_64.whl size=887721 sha256=6f2c52a7d684bc7a8246ddce01485642b07a624d9ccbf6fa2b1675e580125d5e\n",
            "  Stored in directory: /root/.cache/pip/wheels/70/50/a9/36b47c7f055bbee666a2b5718aaf85bce2152ef90f9bd10697\n",
            "  Building wheel for fairseq (pyproject.toml) ... \u001b[?25l\u001b[?25hdone\n",
            "  Created wheel for fairseq: filename=fairseq-0.12.2-cp310-cp310-linux_x86_64.whl size=11170668 sha256=2c67bc10f4be539c536ef8c6c95a4ccf270a36614990bc9fe578cb0607d559f0\n",
            "  Stored in directory: /root/.cache/pip/wheels/e4/35/55/9c66f65ec7c83fd6fbc2b9502a0ac81b2448a1196159dacc32\n",
            "  Building wheel for antlr4-python3-runtime (setup.py) ... \u001b[?25l\u001b[?25hdone\n",
            "  Created wheel for antlr4-python3-runtime: filename=antlr4_python3_runtime-4.8-py3-none-any.whl size=141229 sha256=100057ee80a36b51ff46a03644f643361919b74f215675eb81af9768000482e4\n",
            "  Stored in directory: /root/.cache/pip/wheels/a7/20/bd/e1477d664f22d99989fd28ee1a43d6633dddb5cb9e801350d5\n",
            "Successfully built pyworld fairseq antlr4-python3-runtime\n",
            "Installing collected packages: bitarray, antlr4-python3-runtime, pyworld, praat-parselmouth, portalocker, omegaconf, colorama, sacrebleu, hydra-core, fairseq\n",
            "Successfully installed antlr4-python3-runtime-4.8 bitarray-2.7.3 colorama-0.4.6 fairseq-0.12.2 hydra-core-1.0.7 omegaconf-2.0.6 portalocker-2.7.0 praat-parselmouth-0.4.3 pyworld-0.3.3 sacrebleu-2.3.1\n"
          ]
        }
      ]
    },
    {
      "cell_type": "code",
      "source": [
        "#@title 下载必要模型文件\n",
        "# 源仓库地址：[contentvec](https://github.com/auspicious3000/contentvec)\n",
        "# 模型原下载链接：[checkpoint_best_legacy_500.pt](https://ibm.box.com/s/z1wgl1stco8ffooyatzdwsqn2psd9lrr)\n",
        "# 由于源网盘无法提供http直链，根据mit协议，对模型进行二次分发，提供下载直链\n",
        "!wget -P hubert/ https://huggingface.co/innnky/contentvec/resolve/main/checkpoint_best_legacy_500.pt\n",
        "\n",
        "!wget -P logs/44k/ https://huggingface.co/therealvul/so-vits-svc-4.0-init/resolve/main/D_0.pth\n",
        "\n",
        "!wget -P logs/44k/ https://huggingface.co/therealvul/so-vits-svc-4.0-init/resolve/main/G_0.pth\n"
      ],
      "metadata": {
        "id": "pCqf3W0d6ify",
        "colab": {
          "base_uri": "https://localhost:8080/"
        },
        "outputId": "5111d1e0-3de8-4801-e0d7-fc8d62586535"
      },
      "execution_count": 3,
      "outputs": [
        {
          "output_type": "stream",
          "name": "stdout",
          "text": [
            "--2023-04-30 13:24:27--  https://huggingface.co/innnky/contentvec/resolve/main/checkpoint_best_legacy_500.pt\n",
            "Resolving huggingface.co (huggingface.co)... 18.155.68.38, 18.155.68.116, 18.155.68.44, ...\n",
            "Connecting to huggingface.co (huggingface.co)|18.155.68.38|:443... connected.\n",
            "HTTP request sent, awaiting response... 302 Found\n",
            "Location: https://cdn-lfs.huggingface.co/repos/0a/5f/0a5f89ff9058782f4b7a207d38e0914d63f6f55e8fc1fad0c3bf68b546039f2d/60d936ec5a566776fc392e69ad8b630d14eb588111233fe313436e200a7b187b?response-content-disposition=attachment%3B+filename*%3DUTF-8%27%27checkpoint_best_legacy_500.pt%3B+filename%3D%22checkpoint_best_legacy_500.pt%22%3B&Expires=1683120267&Policy=eyJTdGF0ZW1lbnQiOlt7IlJlc291cmNlIjoiaHR0cHM6Ly9jZG4tbGZzLmh1Z2dpbmdmYWNlLmNvL3JlcG9zLzBhLzVmLzBhNWY4OWZmOTA1ODc4MmY0YjdhMjA3ZDM4ZTA5MTRkNjNmNmY1NWU4ZmMxZmFkMGMzYmY2OGI1NDYwMzlmMmQvNjBkOTM2ZWM1YTU2Njc3NmZjMzkyZTY5YWQ4YjYzMGQxNGViNTg4MTExMjMzZmUzMTM0MzZlMjAwYTdiMTg3Yj9yZXNwb25zZS1jb250ZW50LWRpc3Bvc2l0aW9uPSoiLCJDb25kaXRpb24iOnsiRGF0ZUxlc3NUaGFuIjp7IkFXUzpFcG9jaFRpbWUiOjE2ODMxMjAyNjd9fX1dfQ__&Signature=ag3-ZW9G5MsvM1P3uM18qUy5jNnLCNhLYq1mVMGYxUpAJpSeKUQDgV-FiEI5HKvEJH5xnctb4B7y1IWPZgP503bfF9n8esuZ2dxRqnzYjIiTuDe3rbNnjfaTq%7EfuMKYLKH18CDbblTjqc3MgdzssHXjrwNpcnRW2IeacUtCmSgIxb0zoNxO%7Ejgu4kC3OB2QIy5sB4ExP9ihXPutFdYaGos4WJqqdmGJG5PuH%7E-BdYQAQylHXhs5CbxzxmmTuNjKrBLBa-64EkQICDjU47gm-H8UZD%7EGUdPWOA6JF-e-79Y33zObbUM6KsVCzHDzD%7EuNg1IzSI2TjvarD6AdNqvtNSg__&Key-Pair-Id=KVTP0A1DKRTAX [following]\n",
            "--2023-04-30 13:24:27--  https://cdn-lfs.huggingface.co/repos/0a/5f/0a5f89ff9058782f4b7a207d38e0914d63f6f55e8fc1fad0c3bf68b546039f2d/60d936ec5a566776fc392e69ad8b630d14eb588111233fe313436e200a7b187b?response-content-disposition=attachment%3B+filename*%3DUTF-8%27%27checkpoint_best_legacy_500.pt%3B+filename%3D%22checkpoint_best_legacy_500.pt%22%3B&Expires=1683120267&Policy=eyJTdGF0ZW1lbnQiOlt7IlJlc291cmNlIjoiaHR0cHM6Ly9jZG4tbGZzLmh1Z2dpbmdmYWNlLmNvL3JlcG9zLzBhLzVmLzBhNWY4OWZmOTA1ODc4MmY0YjdhMjA3ZDM4ZTA5MTRkNjNmNmY1NWU4ZmMxZmFkMGMzYmY2OGI1NDYwMzlmMmQvNjBkOTM2ZWM1YTU2Njc3NmZjMzkyZTY5YWQ4YjYzMGQxNGViNTg4MTExMjMzZmUzMTM0MzZlMjAwYTdiMTg3Yj9yZXNwb25zZS1jb250ZW50LWRpc3Bvc2l0aW9uPSoiLCJDb25kaXRpb24iOnsiRGF0ZUxlc3NUaGFuIjp7IkFXUzpFcG9jaFRpbWUiOjE2ODMxMjAyNjd9fX1dfQ__&Signature=ag3-ZW9G5MsvM1P3uM18qUy5jNnLCNhLYq1mVMGYxUpAJpSeKUQDgV-FiEI5HKvEJH5xnctb4B7y1IWPZgP503bfF9n8esuZ2dxRqnzYjIiTuDe3rbNnjfaTq%7EfuMKYLKH18CDbblTjqc3MgdzssHXjrwNpcnRW2IeacUtCmSgIxb0zoNxO%7Ejgu4kC3OB2QIy5sB4ExP9ihXPutFdYaGos4WJqqdmGJG5PuH%7E-BdYQAQylHXhs5CbxzxmmTuNjKrBLBa-64EkQICDjU47gm-H8UZD%7EGUdPWOA6JF-e-79Y33zObbUM6KsVCzHDzD%7EuNg1IzSI2TjvarD6AdNqvtNSg__&Key-Pair-Id=KVTP0A1DKRTAX\n",
            "Resolving cdn-lfs.huggingface.co (cdn-lfs.huggingface.co)... 18.155.68.94, 18.155.68.98, 18.155.68.128, ...\n",
            "Connecting to cdn-lfs.huggingface.co (cdn-lfs.huggingface.co)|18.155.68.94|:443... connected.\n",
            "HTTP request sent, awaiting response... 200 OK\n",
            "Length: 1330114945 (1.2G) [binary/octet-stream]\n",
            "Saving to: ‘hubert/checkpoint_best_legacy_500.pt’\n",
            "\n",
            "checkpoint_best_leg 100%[===================>]   1.24G   189MB/s    in 6.8s    \n",
            "\n",
            "2023-04-30 13:24:34 (188 MB/s) - ‘hubert/checkpoint_best_legacy_500.pt’ saved [1330114945/1330114945]\n",
            "\n",
            "--2023-04-30 13:24:34--  https://huggingface.co/therealvul/so-vits-svc-4.0-init/resolve/main/D_0.pth\n",
            "Resolving huggingface.co (huggingface.co)... 18.155.68.38, 18.155.68.116, 18.155.68.44, ...\n",
            "Connecting to huggingface.co (huggingface.co)|18.155.68.38|:443... connected.\n",
            "HTTP request sent, awaiting response... 302 Found\n",
            "Location: https://cdn-lfs.huggingface.co/repos/c7/21/c7214c5855c8c13ab3ad357ebc651593e9ca56b492469e678bdbda597a830f99/635be5c3409aaf3eec4135a1f5a771595683f3a6461ffc5bdea43441e50269a9?response-content-disposition=attachment%3B+filename*%3DUTF-8%27%27D_0.pth%3B+filename%3D%22D_0.pth%22%3B&Expires=1683119460&Policy=eyJTdGF0ZW1lbnQiOlt7IlJlc291cmNlIjoiaHR0cHM6Ly9jZG4tbGZzLmh1Z2dpbmdmYWNlLmNvL3JlcG9zL2M3LzIxL2M3MjE0YzU4NTVjOGMxM2FiM2FkMzU3ZWJjNjUxNTkzZTljYTU2YjQ5MjQ2OWU2NzhiZGJkYTU5N2E4MzBmOTkvNjM1YmU1YzM0MDlhYWYzZWVjNDEzNWExZjVhNzcxNTk1NjgzZjNhNjQ2MWZmYzViZGVhNDM0NDFlNTAyNjlhOT9yZXNwb25zZS1jb250ZW50LWRpc3Bvc2l0aW9uPSoiLCJDb25kaXRpb24iOnsiRGF0ZUxlc3NUaGFuIjp7IkFXUzpFcG9jaFRpbWUiOjE2ODMxMTk0NjB9fX1dfQ__&Signature=h9aFEGnlHJZCZ%7EdlXyd5a5LR3uPIpaomkxEB3SdhYXzftnYMc7renID835Q6kBz0JGUghu7GbnKRVTVqc%7ECf6ag6CAW%7EFfQAr2VPe%7ESfobutqGghUanWxWYXP1IOSySZIjs2Bh%7Eg3ujRMngCP5Hw3yuzhipYW4BnJoK3yt2VAuvWtwxQgOwTdP7LtbjE1NiN6Sb%7EFPYmoH4LDpN%7E7mWKtHzeAaW00dSRXu-8cPvVg6hLaczd%7EkBMucF9hvmpvvnJRixl9sbfsH2douNW9jM5IeZRHU9CqytXVtiBlsmJpoPtZ47Fptb0%7EyqeapgKdXJBXoJ7H0zcWdz6r2pxvMo-ew__&Key-Pair-Id=KVTP0A1DKRTAX [following]\n",
            "--2023-04-30 13:24:34--  https://cdn-lfs.huggingface.co/repos/c7/21/c7214c5855c8c13ab3ad357ebc651593e9ca56b492469e678bdbda597a830f99/635be5c3409aaf3eec4135a1f5a771595683f3a6461ffc5bdea43441e50269a9?response-content-disposition=attachment%3B+filename*%3DUTF-8%27%27D_0.pth%3B+filename%3D%22D_0.pth%22%3B&Expires=1683119460&Policy=eyJTdGF0ZW1lbnQiOlt7IlJlc291cmNlIjoiaHR0cHM6Ly9jZG4tbGZzLmh1Z2dpbmdmYWNlLmNvL3JlcG9zL2M3LzIxL2M3MjE0YzU4NTVjOGMxM2FiM2FkMzU3ZWJjNjUxNTkzZTljYTU2YjQ5MjQ2OWU2NzhiZGJkYTU5N2E4MzBmOTkvNjM1YmU1YzM0MDlhYWYzZWVjNDEzNWExZjVhNzcxNTk1NjgzZjNhNjQ2MWZmYzViZGVhNDM0NDFlNTAyNjlhOT9yZXNwb25zZS1jb250ZW50LWRpc3Bvc2l0aW9uPSoiLCJDb25kaXRpb24iOnsiRGF0ZUxlc3NUaGFuIjp7IkFXUzpFcG9jaFRpbWUiOjE2ODMxMTk0NjB9fX1dfQ__&Signature=h9aFEGnlHJZCZ%7EdlXyd5a5LR3uPIpaomkxEB3SdhYXzftnYMc7renID835Q6kBz0JGUghu7GbnKRVTVqc%7ECf6ag6CAW%7EFfQAr2VPe%7ESfobutqGghUanWxWYXP1IOSySZIjs2Bh%7Eg3ujRMngCP5Hw3yuzhipYW4BnJoK3yt2VAuvWtwxQgOwTdP7LtbjE1NiN6Sb%7EFPYmoH4LDpN%7E7mWKtHzeAaW00dSRXu-8cPvVg6hLaczd%7EkBMucF9hvmpvvnJRixl9sbfsH2douNW9jM5IeZRHU9CqytXVtiBlsmJpoPtZ47Fptb0%7EyqeapgKdXJBXoJ7H0zcWdz6r2pxvMo-ew__&Key-Pair-Id=KVTP0A1DKRTAX\n",
            "Resolving cdn-lfs.huggingface.co (cdn-lfs.huggingface.co)... 18.155.68.94, 18.155.68.128, 18.155.68.98, ...\n",
            "Connecting to cdn-lfs.huggingface.co (cdn-lfs.huggingface.co)|18.155.68.94|:443... connected.\n",
            "HTTP request sent, awaiting response... 200 OK\n",
            "Length: 187018591 (178M) [binary/octet-stream]\n",
            "Saving to: ‘logs/44k/D_0.pth’\n",
            "\n",
            "D_0.pth             100%[===================>] 178.35M   187MB/s    in 1.0s    \n",
            "\n",
            "2023-04-30 13:24:35 (187 MB/s) - ‘logs/44k/D_0.pth’ saved [187018591/187018591]\n",
            "\n",
            "--2023-04-30 13:24:35--  https://huggingface.co/therealvul/so-vits-svc-4.0-init/resolve/main/G_0.pth\n",
            "Resolving huggingface.co (huggingface.co)... 18.155.68.38, 18.155.68.116, 18.155.68.44, ...\n",
            "Connecting to huggingface.co (huggingface.co)|18.155.68.38|:443... connected.\n",
            "HTTP request sent, awaiting response... 302 Found\n",
            "Location: https://cdn-lfs.huggingface.co/repos/c7/21/c7214c5855c8c13ab3ad357ebc651593e9ca56b492469e678bdbda597a830f99/20a327c54e5731bed377bd38404bc32ab98e66a1b2777b0af4cc034d4d6914b0?response-content-disposition=attachment%3B+filename*%3DUTF-8%27%27G_0.pth%3B+filename%3D%22G_0.pth%22%3B&Expires=1683119119&Policy=eyJTdGF0ZW1lbnQiOlt7IlJlc291cmNlIjoiaHR0cHM6Ly9jZG4tbGZzLmh1Z2dpbmdmYWNlLmNvL3JlcG9zL2M3LzIxL2M3MjE0YzU4NTVjOGMxM2FiM2FkMzU3ZWJjNjUxNTkzZTljYTU2YjQ5MjQ2OWU2NzhiZGJkYTU5N2E4MzBmOTkvMjBhMzI3YzU0ZTU3MzFiZWQzNzdiZDM4NDA0YmMzMmFiOThlNjZhMWIyNzc3YjBhZjRjYzAzNGQ0ZDY5MTRiMD9yZXNwb25zZS1jb250ZW50LWRpc3Bvc2l0aW9uPSoiLCJDb25kaXRpb24iOnsiRGF0ZUxlc3NUaGFuIjp7IkFXUzpFcG9jaFRpbWUiOjE2ODMxMTkxMTl9fX1dfQ__&Signature=TSFwEqO7lHdmMOE759JPbDj22KgmZQgN79iyZ9dHBL-%7EjtMCaw1D0Iy4wUSJY9DJ3QQ3AlVXIqntmFrKwyNYXo4om9rtT9HpV3fiJiQHk7GaUiFYP%7E8r9GqpsEQfqaWS0AHdbihcCK6ihpfIdJNbca2qCa9AWgbRCITl0XW2KP9YASk-e6nc02sWYR1xcD4LuJ%7En7IAwfW1kN2lEluXA5U3SMxYpk9KGQsP6OO4gnysW7cO0avNOGXLaw78vVwqljkmvy2hAgRAbaIUIVEfqj3Xm8sfrf1CZmLa%7EdxgZY-Rom-1hqagZha6-0GSDFeVxJd5GVfi18-RcmT%7EaEwqzVg__&Key-Pair-Id=KVTP0A1DKRTAX [following]\n",
            "--2023-04-30 13:24:35--  https://cdn-lfs.huggingface.co/repos/c7/21/c7214c5855c8c13ab3ad357ebc651593e9ca56b492469e678bdbda597a830f99/20a327c54e5731bed377bd38404bc32ab98e66a1b2777b0af4cc034d4d6914b0?response-content-disposition=attachment%3B+filename*%3DUTF-8%27%27G_0.pth%3B+filename%3D%22G_0.pth%22%3B&Expires=1683119119&Policy=eyJTdGF0ZW1lbnQiOlt7IlJlc291cmNlIjoiaHR0cHM6Ly9jZG4tbGZzLmh1Z2dpbmdmYWNlLmNvL3JlcG9zL2M3LzIxL2M3MjE0YzU4NTVjOGMxM2FiM2FkMzU3ZWJjNjUxNTkzZTljYTU2YjQ5MjQ2OWU2NzhiZGJkYTU5N2E4MzBmOTkvMjBhMzI3YzU0ZTU3MzFiZWQzNzdiZDM4NDA0YmMzMmFiOThlNjZhMWIyNzc3YjBhZjRjYzAzNGQ0ZDY5MTRiMD9yZXNwb25zZS1jb250ZW50LWRpc3Bvc2l0aW9uPSoiLCJDb25kaXRpb24iOnsiRGF0ZUxlc3NUaGFuIjp7IkFXUzpFcG9jaFRpbWUiOjE2ODMxMTkxMTl9fX1dfQ__&Signature=TSFwEqO7lHdmMOE759JPbDj22KgmZQgN79iyZ9dHBL-%7EjtMCaw1D0Iy4wUSJY9DJ3QQ3AlVXIqntmFrKwyNYXo4om9rtT9HpV3fiJiQHk7GaUiFYP%7E8r9GqpsEQfqaWS0AHdbihcCK6ihpfIdJNbca2qCa9AWgbRCITl0XW2KP9YASk-e6nc02sWYR1xcD4LuJ%7En7IAwfW1kN2lEluXA5U3SMxYpk9KGQsP6OO4gnysW7cO0avNOGXLaw78vVwqljkmvy2hAgRAbaIUIVEfqj3Xm8sfrf1CZmLa%7EdxgZY-Rom-1hqagZha6-0GSDFeVxJd5GVfi18-RcmT%7EaEwqzVg__&Key-Pair-Id=KVTP0A1DKRTAX\n",
            "Resolving cdn-lfs.huggingface.co (cdn-lfs.huggingface.co)... 18.155.68.94, 18.155.68.128, 18.155.68.98, ...\n",
            "Connecting to cdn-lfs.huggingface.co (cdn-lfs.huggingface.co)|18.155.68.94|:443... connected.\n",
            "HTTP request sent, awaiting response... 200 OK\n",
            "Length: 180628517 (172M) [binary/octet-stream]\n",
            "Saving to: ‘logs/44k/G_0.pth’\n",
            "\n",
            "G_0.pth             100%[===================>] 172.26M   310MB/s    in 0.6s    \n",
            "\n",
            "2023-04-30 13:24:36 (310 MB/s) - ‘logs/44k/G_0.pth’ saved [180628517/180628517]\n",
            "\n"
          ]
        }
      ]
    },
    {
      "cell_type": "code",
      "source": [
        "!wget -P preModles https://huggingface.co/therealvul/so-vits-svc-4.0-init/resolve/main/D_0.pth\n",
        "\n",
        "!wget -P preModles https://huggingface.co/therealvul/so-vits-svc-4.0-init/resolve/main/G_0.pth"
      ],
      "metadata": {
        "colab": {
          "base_uri": "https://localhost:8080/"
        },
        "id": "kQHTcYdhV2LT",
        "outputId": "614934c4-fdf1-45d3-9603-cd45c9aca07a"
      },
      "execution_count": 4,
      "outputs": [
        {
          "output_type": "stream",
          "name": "stdout",
          "text": [
            "--2023-04-30 13:26:25--  https://huggingface.co/therealvul/so-vits-svc-4.0-init/resolve/main/D_0.pth\n",
            "Resolving huggingface.co (huggingface.co)... 18.155.68.116, 18.155.68.121, 18.155.68.38, ...\n",
            "Connecting to huggingface.co (huggingface.co)|18.155.68.116|:443... connected.\n",
            "HTTP request sent, awaiting response... 302 Found\n",
            "Location: https://cdn-lfs.huggingface.co/repos/c7/21/c7214c5855c8c13ab3ad357ebc651593e9ca56b492469e678bdbda597a830f99/635be5c3409aaf3eec4135a1f5a771595683f3a6461ffc5bdea43441e50269a9?response-content-disposition=attachment%3B+filename*%3DUTF-8%27%27D_0.pth%3B+filename%3D%22D_0.pth%22%3B&Expires=1683119714&Policy=eyJTdGF0ZW1lbnQiOlt7IlJlc291cmNlIjoiaHR0cHM6Ly9jZG4tbGZzLmh1Z2dpbmdmYWNlLmNvL3JlcG9zL2M3LzIxL2M3MjE0YzU4NTVjOGMxM2FiM2FkMzU3ZWJjNjUxNTkzZTljYTU2YjQ5MjQ2OWU2NzhiZGJkYTU5N2E4MzBmOTkvNjM1YmU1YzM0MDlhYWYzZWVjNDEzNWExZjVhNzcxNTk1NjgzZjNhNjQ2MWZmYzViZGVhNDM0NDFlNTAyNjlhOT9yZXNwb25zZS1jb250ZW50LWRpc3Bvc2l0aW9uPSoiLCJDb25kaXRpb24iOnsiRGF0ZUxlc3NUaGFuIjp7IkFXUzpFcG9jaFRpbWUiOjE2ODMxMTk3MTR9fX1dfQ__&Signature=SuJAghL13HMt85k6BknjKr2g1f3rsevgSIxQwuqF92lWLDawCuCshgBr3DmjQbZV7bAXbaSRbQyEqfoOPou-3SsxgODSQNB1-d-KEp3Cu0-aL7uqCdPWF-xcobjE%7EFzRrLgUxVTRY%7EuL9VjHCM5K1B0SDxwSwmkYcGfrkp5XUc2f3mgVddTbW0IYf1Osz47t5pnAFumhTG6NJsBZIMxJ6NHLjFB1BO%7EVVe-OURU8I0KTj3lKO3oAxY68yqvz0artIN-DfyGuEg%7EfDcsDjG2V1sLOBcTAMQ61H5JRlhmta9Tikrmd1ThX3UufS0WqmFFS8XQAwJv9s8NSEyEOIh48hQ__&Key-Pair-Id=KVTP0A1DKRTAX [following]\n",
            "--2023-04-30 13:26:26--  https://cdn-lfs.huggingface.co/repos/c7/21/c7214c5855c8c13ab3ad357ebc651593e9ca56b492469e678bdbda597a830f99/635be5c3409aaf3eec4135a1f5a771595683f3a6461ffc5bdea43441e50269a9?response-content-disposition=attachment%3B+filename*%3DUTF-8%27%27D_0.pth%3B+filename%3D%22D_0.pth%22%3B&Expires=1683119714&Policy=eyJTdGF0ZW1lbnQiOlt7IlJlc291cmNlIjoiaHR0cHM6Ly9jZG4tbGZzLmh1Z2dpbmdmYWNlLmNvL3JlcG9zL2M3LzIxL2M3MjE0YzU4NTVjOGMxM2FiM2FkMzU3ZWJjNjUxNTkzZTljYTU2YjQ5MjQ2OWU2NzhiZGJkYTU5N2E4MzBmOTkvNjM1YmU1YzM0MDlhYWYzZWVjNDEzNWExZjVhNzcxNTk1NjgzZjNhNjQ2MWZmYzViZGVhNDM0NDFlNTAyNjlhOT9yZXNwb25zZS1jb250ZW50LWRpc3Bvc2l0aW9uPSoiLCJDb25kaXRpb24iOnsiRGF0ZUxlc3NUaGFuIjp7IkFXUzpFcG9jaFRpbWUiOjE2ODMxMTk3MTR9fX1dfQ__&Signature=SuJAghL13HMt85k6BknjKr2g1f3rsevgSIxQwuqF92lWLDawCuCshgBr3DmjQbZV7bAXbaSRbQyEqfoOPou-3SsxgODSQNB1-d-KEp3Cu0-aL7uqCdPWF-xcobjE%7EFzRrLgUxVTRY%7EuL9VjHCM5K1B0SDxwSwmkYcGfrkp5XUc2f3mgVddTbW0IYf1Osz47t5pnAFumhTG6NJsBZIMxJ6NHLjFB1BO%7EVVe-OURU8I0KTj3lKO3oAxY68yqvz0artIN-DfyGuEg%7EfDcsDjG2V1sLOBcTAMQ61H5JRlhmta9Tikrmd1ThX3UufS0WqmFFS8XQAwJv9s8NSEyEOIh48hQ__&Key-Pair-Id=KVTP0A1DKRTAX\n",
            "Resolving cdn-lfs.huggingface.co (cdn-lfs.huggingface.co)... 18.155.68.128, 18.155.68.94, 18.155.68.73, ...\n",
            "Connecting to cdn-lfs.huggingface.co (cdn-lfs.huggingface.co)|18.155.68.128|:443... connected.\n",
            "HTTP request sent, awaiting response... 200 OK\n",
            "Length: 187018591 (178M) [binary/octet-stream]\n",
            "Saving to: ‘preModles/D_0.pth’\n",
            "\n",
            "D_0.pth             100%[===================>] 178.35M   311MB/s    in 0.6s    \n",
            "\n",
            "2023-04-30 13:26:26 (311 MB/s) - ‘preModles/D_0.pth’ saved [187018591/187018591]\n",
            "\n",
            "--2023-04-30 13:26:26--  https://huggingface.co/therealvul/so-vits-svc-4.0-init/resolve/main/G_0.pth\n",
            "Resolving huggingface.co (huggingface.co)... 18.155.68.38, 18.155.68.44, 18.155.68.121, ...\n",
            "Connecting to huggingface.co (huggingface.co)|18.155.68.38|:443... connected.\n",
            "HTTP request sent, awaiting response... 302 Found\n",
            "Location: https://cdn-lfs.huggingface.co/repos/c7/21/c7214c5855c8c13ab3ad357ebc651593e9ca56b492469e678bdbda597a830f99/20a327c54e5731bed377bd38404bc32ab98e66a1b2777b0af4cc034d4d6914b0?response-content-disposition=attachment%3B+filename*%3DUTF-8%27%27G_0.pth%3B+filename%3D%22G_0.pth%22%3B&Expires=1683119199&Policy=eyJTdGF0ZW1lbnQiOlt7IlJlc291cmNlIjoiaHR0cHM6Ly9jZG4tbGZzLmh1Z2dpbmdmYWNlLmNvL3JlcG9zL2M3LzIxL2M3MjE0YzU4NTVjOGMxM2FiM2FkMzU3ZWJjNjUxNTkzZTljYTU2YjQ5MjQ2OWU2NzhiZGJkYTU5N2E4MzBmOTkvMjBhMzI3YzU0ZTU3MzFiZWQzNzdiZDM4NDA0YmMzMmFiOThlNjZhMWIyNzc3YjBhZjRjYzAzNGQ0ZDY5MTRiMD9yZXNwb25zZS1jb250ZW50LWRpc3Bvc2l0aW9uPSoiLCJDb25kaXRpb24iOnsiRGF0ZUxlc3NUaGFuIjp7IkFXUzpFcG9jaFRpbWUiOjE2ODMxMTkxOTl9fX1dfQ__&Signature=AuZn%7EtGdjmXIXp7U1hGW5AOqY6C0Cw-jGcxqmc7BoDI3N6m6th0npjgNEzSLm2vId12uaHKoOPQBmDIJYBiLcR4X1qbG4Op3wRVfPBn6LjXjmndhho-fGUf8QAQ%7ESCUqi4dyWm2Jj914M2uLX-s6PyS-uGTkXdSiMXffE1gOTmenB%7ElUWjbPgkSF8XmblzL9LGPHxgAqEmV7rEZm5UXB1Lx9H2g5TnC6ipkDtCjr8QenqGm-vH0gN8l7Kpy-EWQ4VIL2zBSGqCMjRPpn-IsGnjI04z7VKWvWNvGaGyO8uFLv6Z3kQZL-0gQRqXwelKPLjLeV6PBgSYgMuZs1t-fh4A__&Key-Pair-Id=KVTP0A1DKRTAX [following]\n",
            "--2023-04-30 13:26:27--  https://cdn-lfs.huggingface.co/repos/c7/21/c7214c5855c8c13ab3ad357ebc651593e9ca56b492469e678bdbda597a830f99/20a327c54e5731bed377bd38404bc32ab98e66a1b2777b0af4cc034d4d6914b0?response-content-disposition=attachment%3B+filename*%3DUTF-8%27%27G_0.pth%3B+filename%3D%22G_0.pth%22%3B&Expires=1683119199&Policy=eyJTdGF0ZW1lbnQiOlt7IlJlc291cmNlIjoiaHR0cHM6Ly9jZG4tbGZzLmh1Z2dpbmdmYWNlLmNvL3JlcG9zL2M3LzIxL2M3MjE0YzU4NTVjOGMxM2FiM2FkMzU3ZWJjNjUxNTkzZTljYTU2YjQ5MjQ2OWU2NzhiZGJkYTU5N2E4MzBmOTkvMjBhMzI3YzU0ZTU3MzFiZWQzNzdiZDM4NDA0YmMzMmFiOThlNjZhMWIyNzc3YjBhZjRjYzAzNGQ0ZDY5MTRiMD9yZXNwb25zZS1jb250ZW50LWRpc3Bvc2l0aW9uPSoiLCJDb25kaXRpb24iOnsiRGF0ZUxlc3NUaGFuIjp7IkFXUzpFcG9jaFRpbWUiOjE2ODMxMTkxOTl9fX1dfQ__&Signature=AuZn%7EtGdjmXIXp7U1hGW5AOqY6C0Cw-jGcxqmc7BoDI3N6m6th0npjgNEzSLm2vId12uaHKoOPQBmDIJYBiLcR4X1qbG4Op3wRVfPBn6LjXjmndhho-fGUf8QAQ%7ESCUqi4dyWm2Jj914M2uLX-s6PyS-uGTkXdSiMXffE1gOTmenB%7ElUWjbPgkSF8XmblzL9LGPHxgAqEmV7rEZm5UXB1Lx9H2g5TnC6ipkDtCjr8QenqGm-vH0gN8l7Kpy-EWQ4VIL2zBSGqCMjRPpn-IsGnjI04z7VKWvWNvGaGyO8uFLv6Z3kQZL-0gQRqXwelKPLjLeV6PBgSYgMuZs1t-fh4A__&Key-Pair-Id=KVTP0A1DKRTAX\n",
            "Resolving cdn-lfs.huggingface.co (cdn-lfs.huggingface.co)... 18.155.68.128, 18.155.68.94, 18.155.68.73, ...\n",
            "Connecting to cdn-lfs.huggingface.co (cdn-lfs.huggingface.co)|18.155.68.128|:443... connected.\n",
            "HTTP request sent, awaiting response... 200 OK\n",
            "Length: 180628517 (172M) [binary/octet-stream]\n",
            "Saving to: ‘preModles/G_0.pth’\n",
            "\n",
            "G_0.pth             100%[===================>] 172.26M   280MB/s    in 0.6s    \n",
            "\n",
            "2023-04-30 13:26:27 (280 MB/s) - ‘preModles/G_0.pth’ saved [180628517/180628517]\n",
            "\n"
          ]
        }
      ]
    },
    {
      "cell_type": "markdown",
      "source": [
        "# 数据集预处理"
      ],
      "metadata": {
        "id": "k1qadJBFehMo"
      }
    },
    {
      "cell_type": "markdown",
      "source": [
        "将wav数据修改  https://huggingface.co/cenj/xunlian/tree/main\n",
        "\n"
      ],
      "metadata": {
        "id": "nXoS5z2SefNX"
      }
    },
    {
      "cell_type": "code",
      "source": [
        "!wget -P dataset_raw https://huggingface.co/cenj/xunlian/resolve/main/mxd.zip\n",
        "\n",
        "!wget -P dataset_raw https://huggingface.co/cenj/xunlian/resolve/main/zjl.zip\n",
        "\n"
      ],
      "metadata": {
        "colab": {
          "base_uri": "https://localhost:8080/"
        },
        "id": "24l6Xfw_eqWb",
        "outputId": "9972b1a4-792b-43c9-cbdf-959b2dc741b6"
      },
      "execution_count": 5,
      "outputs": [
        {
          "output_type": "stream",
          "name": "stdout",
          "text": [
            "--2023-04-30 14:34:49--  https://huggingface.co/cenj/xunlian/resolve/main/mxd.zip\n",
            "Resolving huggingface.co (huggingface.co)... 18.155.68.121, 18.155.68.38, 18.155.68.116, ...\n",
            "Connecting to huggingface.co (huggingface.co)|18.155.68.121|:443... connected.\n",
            "HTTP request sent, awaiting response... 302 Found\n",
            "Location: https://cdn-lfs.huggingface.co/repos/d5/74/d574e47c507ff12aa3ab3e35994cd107758322f288e41b9abe7f612e676c664d/954bbc55b60129720421acba747bebc8c8045538d75826ba52e2077d6320c899?response-content-disposition=attachment%3B+filename*%3DUTF-8%27%27mxd.zip%3B+filename%3D%22mxd.zip%22%3B&response-content-type=application%2Fzip&Expires=1683124490&Policy=eyJTdGF0ZW1lbnQiOlt7IlJlc291cmNlIjoiaHR0cHM6Ly9jZG4tbGZzLmh1Z2dpbmdmYWNlLmNvL3JlcG9zL2Q1Lzc0L2Q1NzRlNDdjNTA3ZmYxMmFhM2FiM2UzNTk5NGNkMTA3NzU4MzIyZjI4OGU0MWI5YWJlN2Y2MTJlNjc2YzY2NGQvOTU0YmJjNTViNjAxMjk3MjA0MjFhY2JhNzQ3YmViYzhjODA0NTUzOGQ3NTgyNmJhNTJlMjA3N2Q2MzIwYzg5OT9yZXNwb25zZS1jb250ZW50LWRpc3Bvc2l0aW9uPSomcmVzcG9uc2UtY29udGVudC10eXBlPSoiLCJDb25kaXRpb24iOnsiRGF0ZUxlc3NUaGFuIjp7IkFXUzpFcG9jaFRpbWUiOjE2ODMxMjQ0OTB9fX1dfQ__&Signature=0IDykWCK96mT73UzL3dF3e4IdW6jTTPg5cf%7EsGqkMSx1de72XKJhRY%7EBWHgflSYNxzZ4Gav5IR%7ELODhTUtMIb-f5cNz%7EQGEwGL3joNaHE8B7cOQiRNn6ZGp2De33%7EJBj9hqY1K6hnrL8P%7EpA7IYctvoEX1gA6uwBMTmO0nY51YhJ3vUFni1fzM0mFbR09ZBj17M3HwJz1xMXkcxndpKn0dA8HHAOGfqzjjJtQT-R9by2DP-rAPKglz5BaptOHiTU3F4UyeqkNCTFqkpX0BKbq9TlzB6nRGR7xH2C4HCKn9b2TFiZfm4LhpZoNCFv88dLaG7W4VDHTloVISrf%7ET7DJQ__&Key-Pair-Id=KVTP0A1DKRTAX [following]\n",
            "--2023-04-30 14:34:50--  https://cdn-lfs.huggingface.co/repos/d5/74/d574e47c507ff12aa3ab3e35994cd107758322f288e41b9abe7f612e676c664d/954bbc55b60129720421acba747bebc8c8045538d75826ba52e2077d6320c899?response-content-disposition=attachment%3B+filename*%3DUTF-8%27%27mxd.zip%3B+filename%3D%22mxd.zip%22%3B&response-content-type=application%2Fzip&Expires=1683124490&Policy=eyJTdGF0ZW1lbnQiOlt7IlJlc291cmNlIjoiaHR0cHM6Ly9jZG4tbGZzLmh1Z2dpbmdmYWNlLmNvL3JlcG9zL2Q1Lzc0L2Q1NzRlNDdjNTA3ZmYxMmFhM2FiM2UzNTk5NGNkMTA3NzU4MzIyZjI4OGU0MWI5YWJlN2Y2MTJlNjc2YzY2NGQvOTU0YmJjNTViNjAxMjk3MjA0MjFhY2JhNzQ3YmViYzhjODA0NTUzOGQ3NTgyNmJhNTJlMjA3N2Q2MzIwYzg5OT9yZXNwb25zZS1jb250ZW50LWRpc3Bvc2l0aW9uPSomcmVzcG9uc2UtY29udGVudC10eXBlPSoiLCJDb25kaXRpb24iOnsiRGF0ZUxlc3NUaGFuIjp7IkFXUzpFcG9jaFRpbWUiOjE2ODMxMjQ0OTB9fX1dfQ__&Signature=0IDykWCK96mT73UzL3dF3e4IdW6jTTPg5cf%7EsGqkMSx1de72XKJhRY%7EBWHgflSYNxzZ4Gav5IR%7ELODhTUtMIb-f5cNz%7EQGEwGL3joNaHE8B7cOQiRNn6ZGp2De33%7EJBj9hqY1K6hnrL8P%7EpA7IYctvoEX1gA6uwBMTmO0nY51YhJ3vUFni1fzM0mFbR09ZBj17M3HwJz1xMXkcxndpKn0dA8HHAOGfqzjjJtQT-R9by2DP-rAPKglz5BaptOHiTU3F4UyeqkNCTFqkpX0BKbq9TlzB6nRGR7xH2C4HCKn9b2TFiZfm4LhpZoNCFv88dLaG7W4VDHTloVISrf%7ET7DJQ__&Key-Pair-Id=KVTP0A1DKRTAX\n",
            "Resolving cdn-lfs.huggingface.co (cdn-lfs.huggingface.co)... 54.192.150.84, 54.192.150.19, 54.192.150.69, ...\n",
            "Connecting to cdn-lfs.huggingface.co (cdn-lfs.huggingface.co)|54.192.150.84|:443... connected.\n",
            "HTTP request sent, awaiting response... 200 OK\n",
            "Length: 1291853809 (1.2G) [application/zip]\n",
            "Saving to: ‘dataset_raw/mxd.zip’\n",
            "\n",
            "mxd.zip             100%[===================>]   1.20G  17.7MB/s    in 71s     \n",
            "\n",
            "2023-04-30 14:36:01 (17.4 MB/s) - ‘dataset_raw/mxd.zip’ saved [1291853809/1291853809]\n",
            "\n",
            "--2023-04-30 14:36:01--  https://huggingface.co/cenj/xunlian/resolve/main/zjl.zip\n",
            "Resolving huggingface.co (huggingface.co)... 18.155.68.38, 18.155.68.121, 18.155.68.116, ...\n",
            "Connecting to huggingface.co (huggingface.co)|18.155.68.38|:443... connected.\n",
            "HTTP request sent, awaiting response... 302 Found\n",
            "Location: https://cdn-lfs.huggingface.co/repos/d5/74/d574e47c507ff12aa3ab3e35994cd107758322f288e41b9abe7f612e676c664d/9b7076882eae85bbc604cbabb9f419195736ad3f262d03f6d76cdb8c3f92c0ea?response-content-disposition=attachment%3B+filename*%3DUTF-8%27%27zjl.zip%3B+filename%3D%22zjl.zip%22%3B&response-content-type=application%2Fzip&Expires=1683124562&Policy=eyJTdGF0ZW1lbnQiOlt7IlJlc291cmNlIjoiaHR0cHM6Ly9jZG4tbGZzLmh1Z2dpbmdmYWNlLmNvL3JlcG9zL2Q1Lzc0L2Q1NzRlNDdjNTA3ZmYxMmFhM2FiM2UzNTk5NGNkMTA3NzU4MzIyZjI4OGU0MWI5YWJlN2Y2MTJlNjc2YzY2NGQvOWI3MDc2ODgyZWFlODViYmM2MDRjYmFiYjlmNDE5MTk1NzM2YWQzZjI2MmQwM2Y2ZDc2Y2RiOGMzZjkyYzBlYT9yZXNwb25zZS1jb250ZW50LWRpc3Bvc2l0aW9uPSomcmVzcG9uc2UtY29udGVudC10eXBlPSoiLCJDb25kaXRpb24iOnsiRGF0ZUxlc3NUaGFuIjp7IkFXUzpFcG9jaFRpbWUiOjE2ODMxMjQ1NjJ9fX1dfQ__&Signature=NtL3ihNIORhACkm%7EvHdctIzGeIafwharAxG7x0NXR8CroMTP%7EaPVbUZq5lUX2IWV9F99QmM5m5Q0lyWVstmaA54UTHXwmGunkKJj9dtCtkviPd0ZPeCsFOqVjiFc8uej8Idund1WP2rNoaAizqss5wfDnjhyZCcle%7ETlnbHo1ZqZWyaqq6fBWk%7EhLVK4BqFpaa146rZGMsE62Qvyio%7ECIVOrhL3bdhEdIs1hsrJ8qq6z4PWQPvn8mPq4ktRW-omSQJiXLAMQ5fmwcGo9Fgr7QviVMpdMtc1i5yWBqNmDAmkWcWVdqOVDlzrHTKkn1kncp4vz1atMJZliXIUgxBw-GQ__&Key-Pair-Id=KVTP0A1DKRTAX [following]\n",
            "--2023-04-30 14:36:02--  https://cdn-lfs.huggingface.co/repos/d5/74/d574e47c507ff12aa3ab3e35994cd107758322f288e41b9abe7f612e676c664d/9b7076882eae85bbc604cbabb9f419195736ad3f262d03f6d76cdb8c3f92c0ea?response-content-disposition=attachment%3B+filename*%3DUTF-8%27%27zjl.zip%3B+filename%3D%22zjl.zip%22%3B&response-content-type=application%2Fzip&Expires=1683124562&Policy=eyJTdGF0ZW1lbnQiOlt7IlJlc291cmNlIjoiaHR0cHM6Ly9jZG4tbGZzLmh1Z2dpbmdmYWNlLmNvL3JlcG9zL2Q1Lzc0L2Q1NzRlNDdjNTA3ZmYxMmFhM2FiM2UzNTk5NGNkMTA3NzU4MzIyZjI4OGU0MWI5YWJlN2Y2MTJlNjc2YzY2NGQvOWI3MDc2ODgyZWFlODViYmM2MDRjYmFiYjlmNDE5MTk1NzM2YWQzZjI2MmQwM2Y2ZDc2Y2RiOGMzZjkyYzBlYT9yZXNwb25zZS1jb250ZW50LWRpc3Bvc2l0aW9uPSomcmVzcG9uc2UtY29udGVudC10eXBlPSoiLCJDb25kaXRpb24iOnsiRGF0ZUxlc3NUaGFuIjp7IkFXUzpFcG9jaFRpbWUiOjE2ODMxMjQ1NjJ9fX1dfQ__&Signature=NtL3ihNIORhACkm%7EvHdctIzGeIafwharAxG7x0NXR8CroMTP%7EaPVbUZq5lUX2IWV9F99QmM5m5Q0lyWVstmaA54UTHXwmGunkKJj9dtCtkviPd0ZPeCsFOqVjiFc8uej8Idund1WP2rNoaAizqss5wfDnjhyZCcle%7ETlnbHo1ZqZWyaqq6fBWk%7EhLVK4BqFpaa146rZGMsE62Qvyio%7ECIVOrhL3bdhEdIs1hsrJ8qq6z4PWQPvn8mPq4ktRW-omSQJiXLAMQ5fmwcGo9Fgr7QviVMpdMtc1i5yWBqNmDAmkWcWVdqOVDlzrHTKkn1kncp4vz1atMJZliXIUgxBw-GQ__&Key-Pair-Id=KVTP0A1DKRTAX\n",
            "Resolving cdn-lfs.huggingface.co (cdn-lfs.huggingface.co)... 54.192.150.19, 54.192.150.69, 54.192.150.84, ...\n",
            "Connecting to cdn-lfs.huggingface.co (cdn-lfs.huggingface.co)|54.192.150.19|:443... connected.\n",
            "HTTP request sent, awaiting response... 200 OK\n",
            "Length: 1990159785 (1.9G) [application/zip]\n",
            "Saving to: ‘dataset_raw/zjl.zip’\n",
            "\n",
            "zjl.zip             100%[===================>]   1.85G  17.7MB/s    in 1m 49s  \n",
            "\n",
            "2023-04-30 14:37:51 (17.5 MB/s) - ‘dataset_raw/zjl.zip’ saved [1990159785/1990159785]\n",
            "\n"
          ]
        }
      ]
    },
    {
      "cell_type": "markdown",
      "source": [
        "解压缩mxd.zip和zjl.zip"
      ],
      "metadata": {
        "id": "mLe4f9yJmagp"
      }
    },
    {
      "cell_type": "code",
      "source": [
        "\n",
        "\n",
        "!unzip dataset_raw/mxd.zip -d dataset_raw/\n",
        "\n",
        "!unzip dataset_raw/zjl.zip -d dataset_raw/"
      ],
      "metadata": {
        "id": "lXJvnGcImYLh"
      },
      "execution_count": null,
      "outputs": []
    },
    {
      "cell_type": "code",
      "source": [
        "!mkdir dataset_raw/mxd\n",
        "!mkdir dataset_raw/zjl"
      ],
      "metadata": {
        "id": "gDuHlO_Fpjw6"
      },
      "execution_count": null,
      "outputs": []
    },
    {
      "cell_type": "code",
      "source": [
        "!rm -r dataset_raw/mxd\n",
        "\n",
        "!rm -r dataset_raw/zjl"
      ],
      "metadata": {
        "id": "FleCoz8Wo0jx"
      },
      "execution_count": 11,
      "outputs": []
    },
    {
      "cell_type": "code",
      "source": [
        "!cp /content/config.json dataset_raw/"
      ],
      "metadata": {
        "id": "MRERycapqOV9"
      },
      "execution_count": 13,
      "outputs": []
    },
    {
      "cell_type": "code",
      "source": [
        "#@title 加载Google云端硬盘\n",
        "#@markdown 加载Google云端硬盘\n",
        "from google.colab import drive\n",
        "drive.mount('/content/drive')"
      ],
      "metadata": {
        "colab": {
          "base_uri": "https://localhost:8080/"
        },
        "id": "wmUkpUmfn_Hs",
        "outputId": "d1bc19e9-f296-4be8-b988-313692f99f89"
      },
      "execution_count": null,
      "outputs": [
        {
          "output_type": "stream",
          "name": "stdout",
          "text": [
            "Mounted at /content/drive\n"
          ]
        }
      ]
    },
    {
      "cell_type": "markdown",
      "source": [
        "该处理脚本可以一次性预处理多个说话人，并且生成多说话人filelists以及对应的配置文件\n",
        "\n",
        "只需要将你的数据集按照以下文件结构放到dataset_raw目录下\n",
        "\n",
        "\n",
        "```\n",
        "dataset_raw\n",
        "├───speaker0\n",
        "│   ├───xxx1-xxx1.wav\n",
        "│   ├───...\n",
        "│   └───Lxx-0xx8.wav\n",
        "└───speaker1\n",
        "    ├───xx2-0xxx2.wav\n",
        "    ├───...\n",
        "    └───xxx7-xxx007.wav\n",
        "\n",
        "```\n",
        "\n",
        "\n"
      ],
      "metadata": {
        "id": "kBlju6Q3lSM6"
      }
    },
    {
      "cell_type": "code",
      "source": [
        "#@title 从谷歌云盘加载打包好的数据集进行预处理\n",
        "#@markdown **sovits3.0的数据集不再需要特定的文件结构，将数据集的所有wav文件放在同一个文件夹下压缩为zip后上传至谷歌云盘即可，该处理脚本可以一次性预处理多个数据集，处理多个数据集时请依次解压每一个数据集**\n",
        "\n",
        "#@markdown 数据集名称（**人物的英文/拼音名**，与建数据文件夹时统一；不带zip。）\n",
        "DATASETNAME = \"kiritan\"  #@param {type:\"string\"}\n",
        "#@markdown 压缩包路径（谷歌盘路径，传到dataset的就不改这个，没有dataset文件夹就新建一个）\n",
        "ZIP_PATH = \"/content/drive/MyDrive/dataset/\"  #@param {type:\"string\"}\n",
        "ZIP_NAME = ZIP_PATH + DATASETNAME\n",
        "\n",
        "!unzip -d /content/so-vits-svc/dataset_raw {ZIP_NAME}.zip"
      ],
      "metadata": {
        "cellView": "form",
        "id": "U05CXlAipvJR"
      },
      "execution_count": null,
      "outputs": []
    },
    {
      "cell_type": "code",
      "source": [
        "#@title 重采样到44100hz\n",
        "!python resample.py"
      ],
      "metadata": {
        "id": "_ThKTzYs5CfL",
        "colab": {
          "base_uri": "https://localhost:8080/"
        },
        "outputId": "096aaf88-5526-4003-8896-520f25dfaaa9"
      },
      "execution_count": 14,
      "outputs": [
        {
          "output_type": "stream",
          "name": "stdout",
          "text": [
            "./dataset_raw/zjl\n",
            "877it [01:10, 12.48it/s]\n",
            "./dataset_raw/mxd\n",
            "493it [00:42, 11.52it/s]\n"
          ]
        }
      ]
    },
    {
      "cell_type": "code",
      "source": [
        "#@title 划分训练集 生成配置文件\n",
        "!python preprocess_flist_config.py"
      ],
      "metadata": {
        "id": "svITReeL5N8K",
        "colab": {
          "base_uri": "https://localhost:8080/"
        },
        "cellView": "form",
        "outputId": "e35808f0-a4ed-4150-df91-0b3d40a1f35e"
      },
      "execution_count": 15,
      "outputs": [
        {
          "output_type": "stream",
          "name": "stdout",
          "text": [
            "\r  0% 0/2 [00:00<?, ?it/s]skip too short audio: ./dataset/44k/zjl/zjl_1628.wav\n",
            "skip too short audio: ./dataset/44k/zjl/zjl_1317.wav\n",
            "skip too short audio: ./dataset/44k/zjl/zjl_1319.wav\n",
            "skip too short audio: ./dataset/44k/zjl/zjl_1494.wav\n",
            "skip too short audio: ./dataset/44k/zjl/zjl_1247.wav\n",
            "skip too short audio: ./dataset/44k/zjl/zjl_1158.wav\n",
            "skip too short audio: ./dataset/44k/zjl/zjl_1430.wav\n",
            "skip too short audio: ./dataset/44k/zjl/zjl_1032.wav\n",
            "skip too short audio: ./dataset/44k/zjl/zjl_1474.wav\n",
            "skip too short audio: ./dataset/44k/zjl/zjl_1344.wav\n",
            "skip too short audio: ./dataset/44k/mxd/mxd_1204.wav\n",
            "skip too short audio: ./dataset/44k/mxd/mxd_1441.wav\n",
            "\r100% 2/2 [00:00<00:00, 29.73it/s]\n",
            "Writing ./filelists/train.txt\n",
            "\r  0% 0/1354 [00:00<?, ?it/s]\r100% 1354/1354 [00:00<00:00, 1127474.21it/s]\n",
            "Writing ./filelists/val.txt\n",
            "\r  0% 0/4 [00:00<?, ?it/s]\r100% 4/4 [00:00<00:00, 128070.35it/s]\n",
            "Writing configs/config.json\n"
          ]
        }
      ]
    },
    {
      "cell_type": "code",
      "source": [
        "#@title 生成hubert和f0\n",
        "!python preprocess_hubert_f0.py"
      ],
      "metadata": {
        "id": "xHUXMi836DMe",
        "colab": {
          "base_uri": "https://localhost:8080/"
        },
        "outputId": "4da79842-cd8a-4afe-dd50-90416f751157"
      },
      "execution_count": null,
      "outputs": [
        {
          "output_type": "stream",
          "name": "stdout",
          "text": [
            "[1370]\n",
            "Loading hubert for content...\n",
            "load model(s) from hubert/checkpoint_best_legacy_500.pt\n",
            "2023-04-30 15:25:22.561042: I tensorflow/core/platform/cpu_feature_guard.cc:182] This TensorFlow binary is optimized to use available CPU instructions in performance-critical operations.\n",
            "To enable the following instructions: AVX2 FMA, in other operations, rebuild TensorFlow with the appropriate compiler flags.\n",
            "DEBUG:tensorflow:Falling back to TensorFlow client; we recommended you install the Cloud TPU client directly with pip install cloud-tpu-client.\n",
            "2023-04-30 15:25:24.095453: W tensorflow/compiler/tf2tensorrt/utils/py_utils.cc:38] TF-TRT Warning: Could not find TensorRT\n",
            "DEBUG:h5py._conv:Creating converter from 7 to 5\n",
            "DEBUG:h5py._conv:Creating converter from 5 to 7\n",
            "DEBUG:h5py._conv:Creating converter from 7 to 5\n",
            "DEBUG:h5py._conv:Creating converter from 5 to 7\n",
            "DEBUG:jaxlib.mlir._mlir_libs:Initializing MLIR with module: _site_initialize_0\n",
            "DEBUG:jaxlib.mlir._mlir_libs:Registering dialects from initializer <module 'jaxlib.mlir._mlir_libs._site_initialize_0' from '/usr/local/lib/python3.10/dist-packages/jaxlib/mlir/_mlir_libs/_site_initialize_0.so'>\n",
            "DEBUG:jax._src.path:etils.epath found. Using etils.epath for file I/O.\n",
            "INFO:numexpr.utils:NumExpr defaulting to 2 threads.\n",
            "INFO:fairseq.tasks.hubert_pretraining:current directory is /content/so-vits-svc\n",
            "INFO:fairseq.tasks.hubert_pretraining:HubertPretrainingTask Config {'_name': 'hubert_pretraining', 'data': 'metadata', 'fine_tuning': False, 'labels': ['km'], 'label_dir': 'label', 'label_rate': 50.0, 'sample_rate': 16000, 'normalize': False, 'enable_padding': False, 'max_keep_size': None, 'max_sample_size': 250000, 'min_sample_size': 32000, 'single_target': False, 'random_crop': True, 'pad_audio': False}\n",
            "INFO:fairseq.models.hubert.hubert:HubertModel Config: {'_name': 'hubert', 'label_rate': 50.0, 'extractor_mode': default, 'encoder_layers': 12, 'encoder_embed_dim': 768, 'encoder_ffn_embed_dim': 3072, 'encoder_attention_heads': 12, 'activation_fn': gelu, 'layer_type': transformer, 'dropout': 0.1, 'attention_dropout': 0.1, 'activation_dropout': 0.0, 'encoder_layerdrop': 0.05, 'dropout_input': 0.1, 'dropout_features': 0.1, 'final_dim': 256, 'untie_final_proj': True, 'layer_norm_first': False, 'conv_feature_layers': '[(512,10,5)] + [(512,3,2)] * 4 + [(512,2,2)] * 2', 'conv_bias': False, 'logit_temp': 0.1, 'target_glu': False, 'feature_grad_mult': 0.1, 'mask_length': 10, 'mask_prob': 0.8, 'mask_selection': static, 'mask_other': 0.0, 'no_mask_overlap': False, 'mask_min_space': 1, 'mask_channel_length': 10, 'mask_channel_prob': 0.0, 'mask_channel_selection': static, 'mask_channel_other': 0.0, 'no_mask_channel_overlap': False, 'mask_channel_min_space': 1, 'conv_pos': 128, 'conv_pos_groups': 16, 'latent_temp': [2.0, 0.5, 0.999995], 'skip_masked': False, 'skip_nomask': False, 'checkpoint_activations': False, 'required_seq_len_multiple': 2, 'depthwise_conv_kernel_size': 31, 'attn_type': '', 'pos_enc_type': 'abs', 'fp16': False}\n",
            "Loaded hubert.\n",
            "  0% 0/1370 [00:00<?, ?it/s]/usr/local/lib/python3.10/dist-packages/torch/functional.py:641: UserWarning: stft with return_complex=False is deprecated. In a future pytorch release, stft will return complex tensors for all inputs, and return_complex=False will raise an error.\n",
            "Note: you can still call torch.view_as_real on the complex output to recover the old return format. (Triggered internally at ../aten/src/ATen/native/SpectralOps.cpp:862.)\n",
            "  return _VF.stft(input, n_fft, hop_length, win_length, window,  # type: ignore[attr-defined]\n",
            " 39% 528/1370 [06:29<09:39,  1.45it/s]"
          ]
        }
      ]
    },
    {
      "cell_type": "code",
      "source": [
        "!sudo apt-get install build-essential python-dev python3-dev"
      ],
      "metadata": {
        "colab": {
          "base_uri": "https://localhost:8080/"
        },
        "id": "JkWiVm5br7Aq",
        "outputId": "aaf2a575-8572-467c-e2f3-3736b1c03a14"
      },
      "execution_count": 22,
      "outputs": [
        {
          "output_type": "stream",
          "name": "stdout",
          "text": [
            "Reading package lists... Done\n",
            "Building dependency tree       \n",
            "Reading state information... Done\n",
            "Note, selecting 'python-dev-is-python2' instead of 'python-dev'\n",
            "python3-dev is already the newest version (3.8.2-0ubuntu2).\n",
            "python3-dev set to manually installed.\n",
            "build-essential is already the newest version (12.8ubuntu1.1).\n",
            "The following additional packages will be installed:\n",
            "  libpython2-dev libpython2-stdlib libpython2.7 libpython2.7-dev\n",
            "  python-is-python2 python2 python2-dev python2-minimal python2.7-dev\n",
            "Suggested packages:\n",
            "  python2-doc python-tk\n",
            "The following NEW packages will be installed:\n",
            "  libpython2-dev libpython2-stdlib libpython2.7 libpython2.7-dev\n",
            "  python-dev-is-python2 python-is-python2 python2 python2-dev python2-minimal\n",
            "  python2.7-dev\n",
            "0 upgraded, 10 newly installed, 0 to remove and 24 not upgraded.\n",
            "Need to get 3,870 kB of archives.\n",
            "After this operation, 18.0 MB of additional disk space will be used.\n",
            "Get:1 http://archive.ubuntu.com/ubuntu focal/universe amd64 python2-minimal amd64 2.7.17-2ubuntu4 [27.5 kB]\n",
            "Get:2 http://archive.ubuntu.com/ubuntu focal/universe amd64 libpython2-stdlib amd64 2.7.17-2ubuntu4 [7,072 B]\n",
            "Get:3 http://archive.ubuntu.com/ubuntu focal/universe amd64 python2 amd64 2.7.17-2ubuntu4 [26.5 kB]\n",
            "Get:4 http://archive.ubuntu.com/ubuntu focal-updates/universe amd64 libpython2.7 amd64 2.7.18-1~20.04.3 [1,037 kB]\n",
            "Get:5 http://archive.ubuntu.com/ubuntu focal-updates/universe amd64 libpython2.7-dev amd64 2.7.18-1~20.04.3 [2,466 kB]\n",
            "Get:6 http://archive.ubuntu.com/ubuntu focal/universe amd64 libpython2-dev amd64 2.7.17-2ubuntu4 [7,140 B]\n",
            "Get:7 http://archive.ubuntu.com/ubuntu focal/universe amd64 python-is-python2 all 2.7.17-4 [2,496 B]\n",
            "Get:8 http://archive.ubuntu.com/ubuntu focal-updates/universe amd64 python2.7-dev amd64 2.7.18-1~20.04.3 [293 kB]\n",
            "Get:9 http://archive.ubuntu.com/ubuntu focal/universe amd64 python2-dev amd64 2.7.17-2ubuntu4 [1,268 B]\n",
            "Get:10 http://archive.ubuntu.com/ubuntu focal/universe amd64 python-dev-is-python2 all 2.7.17-4 [1,396 B]\n",
            "Fetched 3,870 kB in 2s (1,944 kB/s)\n",
            "debconf: unable to initialize frontend: Dialog\n",
            "debconf: (No usable dialog-like program is installed, so the dialog based frontend cannot be used. at /usr/share/perl5/Debconf/FrontEnd/Dialog.pm line 76, <> line 10.)\n",
            "debconf: falling back to frontend: Readline\n",
            "debconf: unable to initialize frontend: Readline\n",
            "debconf: (This frontend requires a controlling tty.)\n",
            "debconf: falling back to frontend: Teletype\n",
            "dpkg-preconfigure: unable to re-open stdin: \n",
            "Selecting previously unselected package python2-minimal.\n",
            "(Reading database ... 122518 files and directories currently installed.)\n",
            "Preparing to unpack .../python2-minimal_2.7.17-2ubuntu4_amd64.deb ...\n",
            "Unpacking python2-minimal (2.7.17-2ubuntu4) ...\n",
            "Selecting previously unselected package libpython2-stdlib:amd64.\n",
            "Preparing to unpack .../libpython2-stdlib_2.7.17-2ubuntu4_amd64.deb ...\n",
            "Unpacking libpython2-stdlib:amd64 (2.7.17-2ubuntu4) ...\n",
            "Setting up python2-minimal (2.7.17-2ubuntu4) ...\n",
            "Selecting previously unselected package python2.\n",
            "(Reading database ... 122547 files and directories currently installed.)\n",
            "Preparing to unpack .../0-python2_2.7.17-2ubuntu4_amd64.deb ...\n",
            "Unpacking python2 (2.7.17-2ubuntu4) ...\n",
            "Selecting previously unselected package libpython2.7:amd64.\n",
            "Preparing to unpack .../1-libpython2.7_2.7.18-1~20.04.3_amd64.deb ...\n",
            "Unpacking libpython2.7:amd64 (2.7.18-1~20.04.3) ...\n",
            "Selecting previously unselected package libpython2.7-dev:amd64.\n",
            "Preparing to unpack .../2-libpython2.7-dev_2.7.18-1~20.04.3_amd64.deb ...\n",
            "Unpacking libpython2.7-dev:amd64 (2.7.18-1~20.04.3) ...\n",
            "Selecting previously unselected package libpython2-dev:amd64.\n",
            "Preparing to unpack .../3-libpython2-dev_2.7.17-2ubuntu4_amd64.deb ...\n",
            "Unpacking libpython2-dev:amd64 (2.7.17-2ubuntu4) ...\n",
            "Selecting previously unselected package python-is-python2.\n",
            "Preparing to unpack .../4-python-is-python2_2.7.17-4_all.deb ...\n",
            "Unpacking python-is-python2 (2.7.17-4) ...\n",
            "Selecting previously unselected package python2.7-dev.\n",
            "Preparing to unpack .../5-python2.7-dev_2.7.18-1~20.04.3_amd64.deb ...\n",
            "Unpacking python2.7-dev (2.7.18-1~20.04.3) ...\n",
            "Selecting previously unselected package python2-dev.\n",
            "Preparing to unpack .../6-python2-dev_2.7.17-2ubuntu4_amd64.deb ...\n",
            "Unpacking python2-dev (2.7.17-2ubuntu4) ...\n",
            "Selecting previously unselected package python-dev-is-python2.\n",
            "Preparing to unpack .../7-python-dev-is-python2_2.7.17-4_all.deb ...\n",
            "Unpacking python-dev-is-python2 (2.7.17-4) ...\n",
            "Setting up libpython2.7:amd64 (2.7.18-1~20.04.3) ...\n",
            "Setting up libpython2.7-dev:amd64 (2.7.18-1~20.04.3) ...\n",
            "Setting up libpython2-stdlib:amd64 (2.7.17-2ubuntu4) ...\n",
            "Setting up python2 (2.7.17-2ubuntu4) ...\n",
            "Setting up libpython2-dev:amd64 (2.7.17-2ubuntu4) ...\n",
            "Setting up python-is-python2 (2.7.17-4) ...\n",
            "Setting up python2.7-dev (2.7.18-1~20.04.3) ...\n",
            "Setting up python2-dev (2.7.17-2ubuntu4) ...\n",
            "Setting up python-dev-is-python2 (2.7.17-4) ...\n",
            "Processing triggers for man-db (2.9.1-1) ...\n",
            "Processing triggers for libc-bin (2.31-0ubuntu9.9) ...\n"
          ]
        }
      ]
    },
    {
      "cell_type": "code",
      "source": [
        "!pip install --no-cache-dir numpy==1.20.3"
      ],
      "metadata": {
        "colab": {
          "base_uri": "https://localhost:8080/"
        },
        "id": "TRigha_ltyIS",
        "outputId": "7a855e45-bbe2-444f-89ff-34c0f0230b05"
      },
      "execution_count": 23,
      "outputs": [
        {
          "output_type": "stream",
          "name": "stdout",
          "text": [
            "Looking in indexes: https://pypi.org/simple, https://us-python.pkg.dev/colab-wheels/public/simple/\n",
            "Collecting numpy==1.20.3\n",
            "  Downloading numpy-1.20.3.zip (7.8 MB)\n",
            "\u001b[2K     \u001b[90m━━━━━━━━━━━━━━━━━━━━━━━━━━━━━━━━━━━━━━━━\u001b[0m \u001b[32m7.8/7.8 MB\u001b[0m \u001b[31m201.2 MB/s\u001b[0m eta \u001b[36m0:00:00\u001b[0m\n",
            "\u001b[?25h  Installing build dependencies ... \u001b[?25l\u001b[?25hdone\n",
            "  Getting requirements to build wheel ... \u001b[?25l\u001b[?25hdone\n",
            "  Preparing metadata (pyproject.toml) ... \u001b[?25l\u001b[?25hdone\n",
            "Building wheels for collected packages: numpy\n",
            "  \u001b[1;31merror\u001b[0m: \u001b[1msubprocess-exited-with-error\u001b[0m\n",
            "  \n",
            "  \u001b[31m×\u001b[0m \u001b[32mBuilding wheel for numpy \u001b[0m\u001b[1;32m(\u001b[0m\u001b[32mpyproject.toml\u001b[0m\u001b[1;32m)\u001b[0m did not run successfully.\n",
            "  \u001b[31m│\u001b[0m exit code: \u001b[1;36m1\u001b[0m\n",
            "  \u001b[31m╰─>\u001b[0m See above for output.\n",
            "  \n",
            "  \u001b[1;35mnote\u001b[0m: This error originates from a subprocess, and is likely not a problem with pip.\n",
            "  Building wheel for numpy (pyproject.toml) ... \u001b[?25l\u001b[?25herror\n",
            "\u001b[31m  ERROR: Failed building wheel for numpy\u001b[0m\u001b[31m\n",
            "\u001b[0mFailed to build numpy\n",
            "\u001b[31mERROR: Could not build wheels for numpy, which is required to install pyproject.toml-based projects\u001b[0m\u001b[31m\n",
            "\u001b[0m"
          ]
        }
      ]
    },
    {
      "cell_type": "code",
      "source": [
        "!pip install -r requirements.txt"
      ],
      "metadata": {
        "id": "E2_2n5gzvgkr"
      },
      "execution_count": null,
      "outputs": []
    },
    {
      "cell_type": "code",
      "source": [
        "!pip install git+https://github.com/JeremyCCHsu/Python-Wrapper-for-World-Vocoder.git"
      ],
      "metadata": {
        "colab": {
          "base_uri": "https://localhost:8080/"
        },
        "id": "4k9tl64GwaIL",
        "outputId": "365f6fa3-99c8-4fba-ecc3-2423c855a1b7"
      },
      "execution_count": 25,
      "outputs": [
        {
          "output_type": "stream",
          "name": "stdout",
          "text": [
            "Looking in indexes: https://pypi.org/simple, https://us-python.pkg.dev/colab-wheels/public/simple/\n",
            "Collecting git+https://github.com/JeremyCCHsu/Python-Wrapper-for-World-Vocoder.git\n",
            "  Cloning https://github.com/JeremyCCHsu/Python-Wrapper-for-World-Vocoder.git to /tmp/pip-req-build-zval_8zp\n",
            "  Running command git clone --filter=blob:none --quiet https://github.com/JeremyCCHsu/Python-Wrapper-for-World-Vocoder.git /tmp/pip-req-build-zval_8zp\n",
            "  Resolved https://github.com/JeremyCCHsu/Python-Wrapper-for-World-Vocoder.git to commit c999deaf9add59ebdaff4979408a669518bba389\n",
            "  Running command git submodule update --init --recursive -q\n",
            "  Installing build dependencies ... \u001b[?25l\u001b[?25hdone\n",
            "  Getting requirements to build wheel ... \u001b[?25l\u001b[?25hdone\n",
            "  Preparing metadata (pyproject.toml) ... \u001b[?25l\u001b[?25hdone\n",
            "Requirement already satisfied: cython>=0.24 in /usr/local/lib/python3.10/dist-packages (from pyworld==0.3.3) (0.29.34)\n",
            "Requirement already satisfied: numpy in /usr/local/lib/python3.10/dist-packages (from pyworld==0.3.3) (1.23.0)\n"
          ]
        }
      ]
    },
    {
      "cell_type": "code",
      "source": [
        "#@title 至此 数据集预处理制作完毕，将数据集和相关文件保存到谷歌云盘的dataset文件夹下，方便下次训练使用\n",
        "#压缩dataset文件夹\n",
        "!zip -r dataset.zip /content/so-vits-svc/dataset\n",
        "#@markdown 自定义备份到谷歌云盘的dataset文件夹下的数据集文件夹名，避免混淆\n",
        "dataset_name_drive = \"kiritan_preprocessed\"  #@param {type:\"string\"}\n",
        "DATASET_PATH_DRIVE = \"/content/drive/MyDrive/dataset/\" + dataset_name_drive\n",
        "!mkdir -p {DATASET_PATH_DRIVE}\n",
        "\n",
        "!cp /content/so-vits-svc/dataset.zip \"{DATASET_PATH_DRIVE}\"\n",
        "!cp configs/config.json \"{DATASET_PATH_DRIVE}\"\n",
        "!cp filelists/train.txt \"{DATASET_PATH_DRIVE}\"\n",
        "!cp filelists/val.txt \"{DATASET_PATH_DRIVE}\""
      ],
      "metadata": {
        "id": "Wo4OTmTAUXgj",
        "cellView": "form",
        "colab": {
          "base_uri": "https://localhost:8080/"
        },
        "outputId": "f215b116-005b-469c-babb-2b8100655cf6"
      },
      "execution_count": null,
      "outputs": [
        {
          "output_type": "stream",
          "name": "stdout",
          "text": [
            "  adding: content/so-vits-svc/dataset/ (stored 0%)\n",
            "  adding: content/so-vits-svc/dataset/44k/ (stored 0%)\n",
            "  adding: content/so-vits-svc/dataset/44k/kiritan/ (stored 0%)\n",
            "  adding: content/so-vits-svc/dataset/44k/kiritan/000049.wav.soft.pt (deflated 8%)\n",
            "  adding: content/so-vits-svc/dataset/44k/kiritan/000020.wav.soft.pt (deflated 8%)\n",
            "  adding: content/so-vits-svc/dataset/44k/kiritan/000027.wav.f0.npy (deflated 46%)\n",
            "  adding: content/so-vits-svc/dataset/44k/kiritan/000007.wav.f0.npy (deflated 30%)\n",
            "  adding: content/so-vits-svc/dataset/44k/kiritan/000026.wav.f0.npy (deflated 21%)\n",
            "  adding: content/so-vits-svc/dataset/44k/kiritan/000000.wav (deflated 8%)\n",
            "  adding: content/so-vits-svc/dataset/44k/kiritan/000039.wav.soft.pt (deflated 8%)\n",
            "  adding: content/so-vits-svc/dataset/44k/kiritan/000035.wav.soft.pt (deflated 8%)\n",
            "  adding: content/so-vits-svc/dataset/44k/kiritan/000024.wav.soft.pt (deflated 8%)\n",
            "  adding: content/so-vits-svc/dataset/44k/kiritan/000004.wav (deflated 5%)\n",
            "  adding: content/so-vits-svc/dataset/44k/kiritan/000029.wav (deflated 11%)\n",
            "  adding: content/so-vits-svc/dataset/44k/kiritan/000032.wav.soft.pt (deflated 8%)\n",
            "  adding: content/so-vits-svc/dataset/44k/kiritan/000011.wav.f0.npy (deflated 28%)\n",
            "  adding: content/so-vits-svc/dataset/44k/kiritan/000013.wav.f0.npy (deflated 19%)\n",
            "  adding: content/so-vits-svc/dataset/44k/kiritan/000024.wav.f0.npy (deflated 31%)\n",
            "  adding: content/so-vits-svc/dataset/44k/kiritan/000032.wav.f0.npy (deflated 24%)\n",
            "  adding: content/so-vits-svc/dataset/44k/kiritan/000019.wav.soft.pt (deflated 8%)\n",
            "  adding: content/so-vits-svc/dataset/44k/kiritan/000033.wav (deflated 8%)\n",
            "  adding: content/so-vits-svc/dataset/44k/kiritan/000026.wav.soft.pt (deflated 8%)\n",
            "  adding: content/so-vits-svc/dataset/44k/kiritan/000048.wav (deflated 10%)\n",
            "  adding: content/so-vits-svc/dataset/44k/kiritan/000009.wav (deflated 7%)\n",
            "  adding: content/so-vits-svc/dataset/44k/kiritan/000044.wav.f0.npy (deflated 24%)\n",
            "  adding: content/so-vits-svc/dataset/44k/kiritan/000050.wav (deflated 6%)\n",
            "  adding: content/so-vits-svc/dataset/44k/kiritan/000034.wav.soft.pt (deflated 8%)\n",
            "  adding: content/so-vits-svc/dataset/44k/kiritan/000026.wav (deflated 6%)\n",
            "  adding: content/so-vits-svc/dataset/44k/kiritan/000008.wav (deflated 9%)\n",
            "  adding: content/so-vits-svc/dataset/44k/kiritan/000021.wav (deflated 3%)\n",
            "  adding: content/so-vits-svc/dataset/44k/kiritan/000050.wav.f0.npy (deflated 28%)\n",
            "  adding: content/so-vits-svc/dataset/44k/kiritan/000018.wav.soft.pt (deflated 8%)\n",
            "  adding: content/so-vits-svc/dataset/44k/kiritan/000046.wav.soft.pt (deflated 8%)\n",
            "  adding: content/so-vits-svc/dataset/44k/kiritan/000034.wav.f0.npy (deflated 26%)\n",
            "  adding: content/so-vits-svc/dataset/44k/kiritan/000041.wav.f0.npy (deflated 21%)\n",
            "  adding: content/so-vits-svc/dataset/44k/kiritan/000029.wav.f0.npy (deflated 29%)\n",
            "  adding: content/so-vits-svc/dataset/44k/kiritan/000025.wav.f0.npy (deflated 32%)\n",
            "  adding: content/so-vits-svc/dataset/44k/kiritan/000045.wav (deflated 9%)\n",
            "  adding: content/so-vits-svc/dataset/44k/kiritan/000043.wav (deflated 5%)\n",
            "  adding: content/so-vits-svc/dataset/44k/kiritan/000006.wav.soft.pt (deflated 8%)\n",
            "  adding: content/so-vits-svc/dataset/44k/kiritan/000040.wav (deflated 11%)\n",
            "  adding: content/so-vits-svc/dataset/44k/kiritan/000038.wav.f0.npy (deflated 29%)\n",
            "  adding: content/so-vits-svc/dataset/44k/kiritan/000023.wav.f0.npy (deflated 48%)\n",
            "  adding: content/so-vits-svc/dataset/44k/kiritan/000038.wav (deflated 8%)\n",
            "  adding: content/so-vits-svc/dataset/44k/kiritan/000003.wav.soft.pt (deflated 8%)\n",
            "  adding: content/so-vits-svc/dataset/44k/kiritan/000007.wav (deflated 11%)\n",
            "  adding: content/so-vits-svc/dataset/44k/kiritan/000046.wav (deflated 8%)\n",
            "  adding: content/so-vits-svc/dataset/44k/kiritan/000030.wav (deflated 6%)\n",
            "  adding: content/so-vits-svc/dataset/44k/kiritan/000010.wav.soft.pt (deflated 8%)\n",
            "  adding: content/so-vits-svc/dataset/44k/kiritan/000005.wav (deflated 6%)\n",
            "  adding: content/so-vits-svc/dataset/44k/kiritan/000010.wav.f0.npy (deflated 24%)\n",
            "  adding: content/so-vits-svc/dataset/44k/kiritan/000011.wav (deflated 9%)\n",
            "  adding: content/so-vits-svc/dataset/44k/kiritan/000017.wav.f0.npy (deflated 20%)\n",
            "  adding: content/so-vits-svc/dataset/44k/kiritan/000015.wav.f0.npy (deflated 34%)\n",
            "  adding: content/so-vits-svc/dataset/44k/kiritan/000001.wav.f0.npy (deflated 17%)\n",
            "  adding: content/so-vits-svc/dataset/44k/kiritan/000031.wav.soft.pt (deflated 8%)\n",
            "  adding: content/so-vits-svc/dataset/44k/kiritan/000002.wav.f0.npy (deflated 62%)\n",
            "  adding: content/so-vits-svc/dataset/44k/kiritan/000024.wav (deflated 9%)\n",
            "  adding: content/so-vits-svc/dataset/44k/kiritan/000033.wav.f0.npy (deflated 48%)\n",
            "  adding: content/so-vits-svc/dataset/44k/kiritan/000045.wav.soft.pt (deflated 8%)\n",
            "  adding: content/so-vits-svc/dataset/44k/kiritan/000027.wav.soft.pt (deflated 8%)\n",
            "  adding: content/so-vits-svc/dataset/44k/kiritan/000020.wav (deflated 3%)\n",
            "  adding: content/so-vits-svc/dataset/44k/kiritan/000017.wav (deflated 6%)\n",
            "  adding: content/so-vits-svc/dataset/44k/kiritan/000000.wav.f0.npy (deflated 20%)\n",
            "  adding: content/so-vits-svc/dataset/44k/kiritan/000013.wav.soft.pt (deflated 8%)\n",
            "  adding: content/so-vits-svc/dataset/44k/kiritan/000007.wav.soft.pt (deflated 8%)\n",
            "  adding: content/so-vits-svc/dataset/44k/kiritan/000044.wav.soft.pt (deflated 8%)\n",
            "  adding: content/so-vits-svc/dataset/44k/kiritan/000003.wav.f0.npy (deflated 20%)\n",
            "  adding: content/so-vits-svc/dataset/44k/kiritan/000011.wav.soft.pt (deflated 8%)\n",
            "  adding: content/so-vits-svc/dataset/44k/kiritan/000031.wav.f0.npy (deflated 27%)\n",
            "  adding: content/so-vits-svc/dataset/44k/kiritan/000036.wav.f0.npy (deflated 29%)\n",
            "  adding: content/so-vits-svc/dataset/44k/kiritan/000022.wav (deflated 6%)\n",
            "  adding: content/so-vits-svc/dataset/44k/kiritan/000016.wav.soft.pt (deflated 8%)\n",
            "  adding: content/so-vits-svc/dataset/44k/kiritan/000018.wav (deflated 6%)\n",
            "  adding: content/so-vits-svc/dataset/44k/kiritan/000038.wav.soft.pt (deflated 8%)\n",
            "  adding: content/so-vits-svc/dataset/44k/kiritan/000044.wav (deflated 7%)\n",
            "  adding: content/so-vits-svc/dataset/44k/kiritan/000039.wav (deflated 6%)\n",
            "  adding: content/so-vits-svc/dataset/44k/kiritan/000002.wav (deflated 11%)\n",
            "  adding: content/so-vits-svc/dataset/44k/kiritan/000028.wav.soft.pt (deflated 8%)\n",
            "  adding: content/so-vits-svc/dataset/44k/kiritan/000047.wav.f0.npy (deflated 30%)\n",
            "  adding: content/so-vits-svc/dataset/44k/kiritan/000015.wav (deflated 5%)\n",
            "  adding: content/so-vits-svc/dataset/44k/kiritan/000009.wav.f0.npy (deflated 23%)\n",
            "  adding: content/so-vits-svc/dataset/44k/kiritan/000005.wav.f0.npy (deflated 37%)\n",
            "  adding: content/so-vits-svc/dataset/44k/kiritan/000030.wav.f0.npy (deflated 17%)\n",
            "  adding: content/so-vits-svc/dataset/44k/kiritan/000027.wav (deflated 9%)\n",
            "  adding: content/so-vits-svc/dataset/44k/kiritan/000035.wav.f0.npy (deflated 22%)\n",
            "  adding: content/so-vits-svc/dataset/44k/kiritan/000034.wav (deflated 12%)\n",
            "  adding: content/so-vits-svc/dataset/44k/kiritan/000047.wav (deflated 7%)\n",
            "  adding: content/so-vits-svc/dataset/44k/kiritan/000004.wav.soft.pt (deflated 8%)\n",
            "  adding: content/so-vits-svc/dataset/44k/kiritan/000012.wav.f0.npy (deflated 36%)\n",
            "  adding: content/so-vits-svc/dataset/44k/kiritan/000017.wav.soft.pt (deflated 8%)\n",
            "  adding: content/so-vits-svc/dataset/44k/kiritan/000028.wav (deflated 7%)\n",
            "  adding: content/so-vits-svc/dataset/44k/kiritan/000008.wav.soft.pt (deflated 8%)\n",
            "  adding: content/so-vits-svc/dataset/44k/kiritan/000012.wav.soft.pt (deflated 8%)\n",
            "  adding: content/so-vits-svc/dataset/44k/kiritan/000019.wav (deflated 6%)\n",
            "  adding: content/so-vits-svc/dataset/44k/kiritan/000039.wav.f0.npy (deflated 40%)\n",
            "  adding: content/so-vits-svc/dataset/44k/kiritan/000040.wav.soft.pt (deflated 8%)\n",
            "  adding: content/so-vits-svc/dataset/44k/kiritan/000043.wav.soft.pt (deflated 8%)\n",
            "  adding: content/so-vits-svc/dataset/44k/kiritan/000029.wav.soft.pt (deflated 8%)\n",
            "  adding: content/so-vits-svc/dataset/44k/kiritan/000019.wav.f0.npy (deflated 36%)\n",
            "  adding: content/so-vits-svc/dataset/44k/kiritan/000013.wav (deflated 8%)\n",
            "  adding: content/so-vits-svc/dataset/44k/kiritan/000021.wav.soft.pt (deflated 8%)\n",
            "  adding: content/so-vits-svc/dataset/44k/kiritan/000009.wav.soft.pt (deflated 8%)\n",
            "  adding: content/so-vits-svc/dataset/44k/kiritan/000032.wav (deflated 5%)\n",
            "  adding: content/so-vits-svc/dataset/44k/kiritan/000008.wav.f0.npy (deflated 45%)\n",
            "  adding: content/so-vits-svc/dataset/44k/kiritan/000033.wav.soft.pt (deflated 8%)\n",
            "  adding: content/so-vits-svc/dataset/44k/kiritan/000016.wav.f0.npy (deflated 21%)\n",
            "  adding: content/so-vits-svc/dataset/44k/kiritan/000022.wav.soft.pt (deflated 8%)\n",
            "  adding: content/so-vits-svc/dataset/44k/kiritan/000045.wav.f0.npy (deflated 29%)\n",
            "  adding: content/so-vits-svc/dataset/44k/kiritan/000004.wav.f0.npy (deflated 32%)\n",
            "  adding: content/so-vits-svc/dataset/44k/kiritan/000023.wav.soft.pt (deflated 8%)\n",
            "  adding: content/so-vits-svc/dataset/44k/kiritan/000043.wav.f0.npy (deflated 65%)\n",
            "  adding: content/so-vits-svc/dataset/44k/kiritan/000014.wav.f0.npy (deflated 46%)\n",
            "  adding: content/so-vits-svc/dataset/44k/kiritan/000042.wav.f0.npy (deflated 33%)\n",
            "  adding: content/so-vits-svc/dataset/44k/kiritan/000002.wav.soft.pt (deflated 8%)\n",
            "  adding: content/so-vits-svc/dataset/44k/kiritan/000006.wav.f0.npy (deflated 22%)\n",
            "  adding: content/so-vits-svc/dataset/44k/kiritan/000014.wav.soft.pt (deflated 8%)\n",
            "  adding: content/so-vits-svc/dataset/44k/kiritan/000035.wav (deflated 8%)\n",
            "  adding: content/so-vits-svc/dataset/44k/kiritan/000010.wav (deflated 8%)\n",
            "  adding: content/so-vits-svc/dataset/44k/kiritan/000001.wav (deflated 5%)\n",
            "  adding: content/so-vits-svc/dataset/44k/kiritan/000048.wav.soft.pt (deflated 8%)\n",
            "  adding: content/so-vits-svc/dataset/44k/kiritan/000046.wav.f0.npy (deflated 28%)\n",
            "  adding: content/so-vits-svc/dataset/44k/kiritan/000006.wav (deflated 7%)\n",
            "  adding: content/so-vits-svc/dataset/44k/kiritan/000050.wav.soft.pt (deflated 8%)\n",
            "  adding: content/so-vits-svc/dataset/44k/kiritan/000037.wav.soft.pt (deflated 8%)\n",
            "  adding: content/so-vits-svc/dataset/44k/kiritan/000023.wav (deflated 7%)\n",
            "  adding: content/so-vits-svc/dataset/44k/kiritan/000025.wav.soft.pt (deflated 8%)\n",
            "  adding: content/so-vits-svc/dataset/44k/kiritan/000000.wav.soft.pt (deflated 8%)\n",
            "  adding: content/so-vits-svc/dataset/44k/kiritan/000028.wav.f0.npy (deflated 31%)\n",
            "  adding: content/so-vits-svc/dataset/44k/kiritan/000049.wav.f0.npy (deflated 34%)\n",
            "  adding: content/so-vits-svc/dataset/44k/kiritan/000021.wav.f0.npy (deflated 15%)\n",
            "  adding: content/so-vits-svc/dataset/44k/kiritan/000037.wav.f0.npy (deflated 22%)\n",
            "  adding: content/so-vits-svc/dataset/44k/kiritan/000042.wav.soft.pt (deflated 8%)\n",
            "  adding: content/so-vits-svc/dataset/44k/kiritan/000012.wav (deflated 12%)\n",
            "  adding: content/so-vits-svc/dataset/44k/kiritan/000031.wav (deflated 7%)\n",
            "  adding: content/so-vits-svc/dataset/44k/kiritan/000005.wav.soft.pt (deflated 8%)\n",
            "  adding: content/so-vits-svc/dataset/44k/kiritan/000025.wav (deflated 7%)\n",
            "  adding: content/so-vits-svc/dataset/44k/kiritan/000016.wav (deflated 7%)\n",
            "  adding: content/so-vits-svc/dataset/44k/kiritan/000015.wav.soft.pt (deflated 8%)\n",
            "  adding: content/so-vits-svc/dataset/44k/kiritan/000048.wav.f0.npy (deflated 23%)\n",
            "  adding: content/so-vits-svc/dataset/44k/kiritan/000003.wav (deflated 7%)\n",
            "  adding: content/so-vits-svc/dataset/44k/kiritan/000014.wav (deflated 6%)\n",
            "  adding: content/so-vits-svc/dataset/44k/kiritan/000047.wav.soft.pt (deflated 8%)\n",
            "  adding: content/so-vits-svc/dataset/44k/kiritan/000041.wav.soft.pt (deflated 8%)\n",
            "  adding: content/so-vits-svc/dataset/44k/kiritan/000037.wav (deflated 7%)\n",
            "  adding: content/so-vits-svc/dataset/44k/kiritan/000040.wav.f0.npy (deflated 30%)\n",
            "  adding: content/so-vits-svc/dataset/44k/kiritan/000022.wav.f0.npy (deflated 37%)\n",
            "  adding: content/so-vits-svc/dataset/44k/kiritan/000036.wav.soft.pt (deflated 8%)\n",
            "  adding: content/so-vits-svc/dataset/44k/kiritan/000041.wav (deflated 10%)\n",
            "  adding: content/so-vits-svc/dataset/44k/kiritan/000030.wav.soft.pt (deflated 8%)\n",
            "  adding: content/so-vits-svc/dataset/44k/kiritan/000042.wav (deflated 5%)\n",
            "  adding: content/so-vits-svc/dataset/44k/kiritan/000001.wav.soft.pt (deflated 8%)\n",
            "  adding: content/so-vits-svc/dataset/44k/kiritan/000020.wav.f0.npy (deflated 30%)\n",
            "  adding: content/so-vits-svc/dataset/44k/kiritan/000018.wav.f0.npy (deflated 18%)\n",
            "  adding: content/so-vits-svc/dataset/44k/kiritan/000049.wav (deflated 8%)\n",
            "  adding: content/so-vits-svc/dataset/44k/kiritan/000036.wav (deflated 5%)\n"
          ]
        }
      ]
    },
    {
      "cell_type": "code",
      "source": [
        "#@title 已经预处理过数据集的话，就可以跳过预处理部分 直接从云盘解压处理过的数据 以及配置文件\n",
        "#@markdown 从谷歌云盘加载预处理过的数据集，文件夹名和你备份的时候输入的一样\n",
        "back_up_name = \"kiritan_preprocessed\"  #@param {type:\"string\"}\n",
        "BACK_UP_DATASET_PATH = \"/content/drive/MyDrive/dataset/\" + back_up_name\n",
        "!unzip {BACK_UP_DATASET_PATH}/dataset.zip -d /\n",
        "!cp {BACK_UP_DATASET_PATH}/config.json /content/so-vits-svc/configs/config.json \n",
        "!cp {BACK_UP_DATASET_PATH}/val.txt filelists/val.txt\n",
        "!cp {BACK_UP_DATASET_PATH}/train.txt filelists/train.txt\n",
        "\n",
        "\n",
        "# 拷贝云盘上保存的记录点\n",
        "# !cp /content/drive/MyDrive/G_800.pth logs/48k/\n",
        "# !cp /content/drive/MyDrive/D_800.pth logs/48k/"
      ],
      "metadata": {
        "id": "P2G6v_6zblWK",
        "colab": {
          "base_uri": "https://localhost:8080/"
        },
        "outputId": "c88d971a-644f-4bfd-d433-426aa5296939"
      },
      "execution_count": null,
      "outputs": [
        {
          "output_type": "stream",
          "name": "stdout",
          "text": [
            "Archive:  /content/drive/MyDrive/dataset/kiritan_preprocessed/dataset.zip\n",
            "replace /content/so-vits-svc/dataset/44k/kiritan/000049.wav.soft.pt? [y]es, [n]o, [A]ll, [N]one, [r]ename: A\n",
            "  inflating: /content/so-vits-svc/dataset/44k/kiritan/000049.wav.soft.pt  \n",
            "  inflating: /content/so-vits-svc/dataset/44k/kiritan/000020.wav.soft.pt  \n",
            "  inflating: /content/so-vits-svc/dataset/44k/kiritan/000027.wav.f0.npy  \n",
            "  inflating: /content/so-vits-svc/dataset/44k/kiritan/000007.wav.f0.npy  \n",
            "  inflating: /content/so-vits-svc/dataset/44k/kiritan/000026.wav.f0.npy  \n",
            "  inflating: /content/so-vits-svc/dataset/44k/kiritan/000000.wav  \n",
            "  inflating: /content/so-vits-svc/dataset/44k/kiritan/000039.wav.soft.pt  \n",
            "  inflating: /content/so-vits-svc/dataset/44k/kiritan/000035.wav.soft.pt  \n",
            "  inflating: /content/so-vits-svc/dataset/44k/kiritan/000024.wav.soft.pt  \n",
            "  inflating: /content/so-vits-svc/dataset/44k/kiritan/000004.wav  \n",
            "  inflating: /content/so-vits-svc/dataset/44k/kiritan/000029.wav  \n",
            "  inflating: /content/so-vits-svc/dataset/44k/kiritan/000032.wav.soft.pt  \n",
            "  inflating: /content/so-vits-svc/dataset/44k/kiritan/000011.wav.f0.npy  \n",
            "  inflating: /content/so-vits-svc/dataset/44k/kiritan/000013.wav.f0.npy  \n",
            "  inflating: /content/so-vits-svc/dataset/44k/kiritan/000024.wav.f0.npy  \n",
            "  inflating: /content/so-vits-svc/dataset/44k/kiritan/000032.wav.f0.npy  \n",
            "  inflating: /content/so-vits-svc/dataset/44k/kiritan/000019.wav.soft.pt  \n",
            "  inflating: /content/so-vits-svc/dataset/44k/kiritan/000033.wav  \n",
            "  inflating: /content/so-vits-svc/dataset/44k/kiritan/000026.wav.soft.pt  \n",
            "  inflating: /content/so-vits-svc/dataset/44k/kiritan/000048.wav  \n",
            "  inflating: /content/so-vits-svc/dataset/44k/kiritan/000009.wav  \n",
            "  inflating: /content/so-vits-svc/dataset/44k/kiritan/000044.wav.f0.npy  \n",
            "  inflating: /content/so-vits-svc/dataset/44k/kiritan/000050.wav  \n",
            "  inflating: /content/so-vits-svc/dataset/44k/kiritan/000034.wav.soft.pt  \n",
            "  inflating: /content/so-vits-svc/dataset/44k/kiritan/000026.wav  \n",
            "  inflating: /content/so-vits-svc/dataset/44k/kiritan/000008.wav  \n",
            "  inflating: /content/so-vits-svc/dataset/44k/kiritan/000021.wav  \n",
            "  inflating: /content/so-vits-svc/dataset/44k/kiritan/000050.wav.f0.npy  \n",
            "  inflating: /content/so-vits-svc/dataset/44k/kiritan/000018.wav.soft.pt  \n",
            "  inflating: /content/so-vits-svc/dataset/44k/kiritan/000046.wav.soft.pt  \n",
            "  inflating: /content/so-vits-svc/dataset/44k/kiritan/000034.wav.f0.npy  \n",
            "  inflating: /content/so-vits-svc/dataset/44k/kiritan/000041.wav.f0.npy  \n",
            "  inflating: /content/so-vits-svc/dataset/44k/kiritan/000029.wav.f0.npy  \n",
            "  inflating: /content/so-vits-svc/dataset/44k/kiritan/000025.wav.f0.npy  \n",
            "  inflating: /content/so-vits-svc/dataset/44k/kiritan/000045.wav  \n",
            "  inflating: /content/so-vits-svc/dataset/44k/kiritan/000043.wav  \n",
            "  inflating: /content/so-vits-svc/dataset/44k/kiritan/000006.wav.soft.pt  \n",
            "  inflating: /content/so-vits-svc/dataset/44k/kiritan/000040.wav  \n",
            "  inflating: /content/so-vits-svc/dataset/44k/kiritan/000038.wav.f0.npy  \n",
            "  inflating: /content/so-vits-svc/dataset/44k/kiritan/000023.wav.f0.npy  \n",
            "  inflating: /content/so-vits-svc/dataset/44k/kiritan/000038.wav  \n",
            "  inflating: /content/so-vits-svc/dataset/44k/kiritan/000003.wav.soft.pt  \n",
            "  inflating: /content/so-vits-svc/dataset/44k/kiritan/000007.wav  \n",
            "  inflating: /content/so-vits-svc/dataset/44k/kiritan/000046.wav  \n",
            "  inflating: /content/so-vits-svc/dataset/44k/kiritan/000030.wav  \n",
            "  inflating: /content/so-vits-svc/dataset/44k/kiritan/000010.wav.soft.pt  \n",
            "  inflating: /content/so-vits-svc/dataset/44k/kiritan/000005.wav  \n",
            "  inflating: /content/so-vits-svc/dataset/44k/kiritan/000010.wav.f0.npy  \n",
            "  inflating: /content/so-vits-svc/dataset/44k/kiritan/000011.wav  \n",
            "  inflating: /content/so-vits-svc/dataset/44k/kiritan/000017.wav.f0.npy  \n",
            "  inflating: /content/so-vits-svc/dataset/44k/kiritan/000015.wav.f0.npy  \n",
            "  inflating: /content/so-vits-svc/dataset/44k/kiritan/000001.wav.f0.npy  \n",
            "  inflating: /content/so-vits-svc/dataset/44k/kiritan/000031.wav.soft.pt  \n",
            "  inflating: /content/so-vits-svc/dataset/44k/kiritan/000002.wav.f0.npy  \n",
            "  inflating: /content/so-vits-svc/dataset/44k/kiritan/000024.wav  \n",
            "  inflating: /content/so-vits-svc/dataset/44k/kiritan/000033.wav.f0.npy  \n",
            "  inflating: /content/so-vits-svc/dataset/44k/kiritan/000045.wav.soft.pt  \n",
            "  inflating: /content/so-vits-svc/dataset/44k/kiritan/000027.wav.soft.pt  \n",
            "  inflating: /content/so-vits-svc/dataset/44k/kiritan/000020.wav  \n",
            "  inflating: /content/so-vits-svc/dataset/44k/kiritan/000017.wav  \n",
            "  inflating: /content/so-vits-svc/dataset/44k/kiritan/000000.wav.f0.npy  \n",
            "  inflating: /content/so-vits-svc/dataset/44k/kiritan/000013.wav.soft.pt  \n",
            "  inflating: /content/so-vits-svc/dataset/44k/kiritan/000007.wav.soft.pt  \n",
            "  inflating: /content/so-vits-svc/dataset/44k/kiritan/000044.wav.soft.pt  \n",
            "  inflating: /content/so-vits-svc/dataset/44k/kiritan/000003.wav.f0.npy  \n",
            "  inflating: /content/so-vits-svc/dataset/44k/kiritan/000011.wav.soft.pt  \n",
            "  inflating: /content/so-vits-svc/dataset/44k/kiritan/000031.wav.f0.npy  \n",
            "  inflating: /content/so-vits-svc/dataset/44k/kiritan/000036.wav.f0.npy  \n",
            "  inflating: /content/so-vits-svc/dataset/44k/kiritan/000022.wav  \n",
            "  inflating: /content/so-vits-svc/dataset/44k/kiritan/000016.wav.soft.pt  \n",
            "  inflating: /content/so-vits-svc/dataset/44k/kiritan/000018.wav  \n",
            "  inflating: /content/so-vits-svc/dataset/44k/kiritan/000038.wav.soft.pt  \n",
            "  inflating: /content/so-vits-svc/dataset/44k/kiritan/000044.wav  \n",
            "  inflating: /content/so-vits-svc/dataset/44k/kiritan/000039.wav  \n",
            "  inflating: /content/so-vits-svc/dataset/44k/kiritan/000002.wav  \n",
            "  inflating: /content/so-vits-svc/dataset/44k/kiritan/000028.wav.soft.pt  \n",
            "  inflating: /content/so-vits-svc/dataset/44k/kiritan/000047.wav.f0.npy  \n",
            "  inflating: /content/so-vits-svc/dataset/44k/kiritan/000015.wav  \n",
            "  inflating: /content/so-vits-svc/dataset/44k/kiritan/000009.wav.f0.npy  \n",
            "  inflating: /content/so-vits-svc/dataset/44k/kiritan/000005.wav.f0.npy  \n",
            "  inflating: /content/so-vits-svc/dataset/44k/kiritan/000030.wav.f0.npy  \n",
            "  inflating: /content/so-vits-svc/dataset/44k/kiritan/000027.wav  \n",
            "  inflating: /content/so-vits-svc/dataset/44k/kiritan/000035.wav.f0.npy  \n",
            "  inflating: /content/so-vits-svc/dataset/44k/kiritan/000034.wav  \n",
            "  inflating: /content/so-vits-svc/dataset/44k/kiritan/000047.wav  \n",
            "  inflating: /content/so-vits-svc/dataset/44k/kiritan/000004.wav.soft.pt  \n",
            "  inflating: /content/so-vits-svc/dataset/44k/kiritan/000012.wav.f0.npy  \n",
            "  inflating: /content/so-vits-svc/dataset/44k/kiritan/000017.wav.soft.pt  \n",
            "  inflating: /content/so-vits-svc/dataset/44k/kiritan/000028.wav  \n",
            "  inflating: /content/so-vits-svc/dataset/44k/kiritan/000008.wav.soft.pt  \n",
            "  inflating: /content/so-vits-svc/dataset/44k/kiritan/000012.wav.soft.pt  \n",
            "  inflating: /content/so-vits-svc/dataset/44k/kiritan/000019.wav  \n",
            "  inflating: /content/so-vits-svc/dataset/44k/kiritan/000039.wav.f0.npy  \n",
            "  inflating: /content/so-vits-svc/dataset/44k/kiritan/000040.wav.soft.pt  \n",
            "  inflating: /content/so-vits-svc/dataset/44k/kiritan/000043.wav.soft.pt  \n",
            "  inflating: /content/so-vits-svc/dataset/44k/kiritan/000029.wav.soft.pt  \n",
            "  inflating: /content/so-vits-svc/dataset/44k/kiritan/000019.wav.f0.npy  \n",
            "  inflating: /content/so-vits-svc/dataset/44k/kiritan/000013.wav  \n",
            "  inflating: /content/so-vits-svc/dataset/44k/kiritan/000021.wav.soft.pt  \n",
            "  inflating: /content/so-vits-svc/dataset/44k/kiritan/000009.wav.soft.pt  \n",
            "  inflating: /content/so-vits-svc/dataset/44k/kiritan/000032.wav  \n",
            "  inflating: /content/so-vits-svc/dataset/44k/kiritan/000008.wav.f0.npy  \n",
            "  inflating: /content/so-vits-svc/dataset/44k/kiritan/000033.wav.soft.pt  \n",
            "  inflating: /content/so-vits-svc/dataset/44k/kiritan/000016.wav.f0.npy  \n",
            "  inflating: /content/so-vits-svc/dataset/44k/kiritan/000022.wav.soft.pt  \n",
            "  inflating: /content/so-vits-svc/dataset/44k/kiritan/000045.wav.f0.npy  \n",
            "  inflating: /content/so-vits-svc/dataset/44k/kiritan/000004.wav.f0.npy  \n",
            "  inflating: /content/so-vits-svc/dataset/44k/kiritan/000023.wav.soft.pt  \n",
            "  inflating: /content/so-vits-svc/dataset/44k/kiritan/000043.wav.f0.npy  \n",
            "  inflating: /content/so-vits-svc/dataset/44k/kiritan/000014.wav.f0.npy  \n",
            "  inflating: /content/so-vits-svc/dataset/44k/kiritan/000042.wav.f0.npy  \n",
            "  inflating: /content/so-vits-svc/dataset/44k/kiritan/000002.wav.soft.pt  \n",
            "  inflating: /content/so-vits-svc/dataset/44k/kiritan/000006.wav.f0.npy  \n",
            "  inflating: /content/so-vits-svc/dataset/44k/kiritan/000014.wav.soft.pt  \n",
            "  inflating: /content/so-vits-svc/dataset/44k/kiritan/000035.wav  \n",
            "  inflating: /content/so-vits-svc/dataset/44k/kiritan/000010.wav  \n",
            "  inflating: /content/so-vits-svc/dataset/44k/kiritan/000001.wav  \n",
            "  inflating: /content/so-vits-svc/dataset/44k/kiritan/000048.wav.soft.pt  \n",
            "  inflating: /content/so-vits-svc/dataset/44k/kiritan/000046.wav.f0.npy  \n",
            "  inflating: /content/so-vits-svc/dataset/44k/kiritan/000006.wav  \n",
            "  inflating: /content/so-vits-svc/dataset/44k/kiritan/000050.wav.soft.pt  \n",
            "  inflating: /content/so-vits-svc/dataset/44k/kiritan/000037.wav.soft.pt  \n",
            "  inflating: /content/so-vits-svc/dataset/44k/kiritan/000023.wav  \n",
            "  inflating: /content/so-vits-svc/dataset/44k/kiritan/000025.wav.soft.pt  \n",
            "  inflating: /content/so-vits-svc/dataset/44k/kiritan/000000.wav.soft.pt  \n",
            "  inflating: /content/so-vits-svc/dataset/44k/kiritan/000028.wav.f0.npy  \n",
            "  inflating: /content/so-vits-svc/dataset/44k/kiritan/000049.wav.f0.npy  \n",
            "  inflating: /content/so-vits-svc/dataset/44k/kiritan/000021.wav.f0.npy  \n",
            "  inflating: /content/so-vits-svc/dataset/44k/kiritan/000037.wav.f0.npy  \n",
            "  inflating: /content/so-vits-svc/dataset/44k/kiritan/000042.wav.soft.pt  \n",
            "  inflating: /content/so-vits-svc/dataset/44k/kiritan/000012.wav  \n",
            "  inflating: /content/so-vits-svc/dataset/44k/kiritan/000031.wav  \n",
            "  inflating: /content/so-vits-svc/dataset/44k/kiritan/000005.wav.soft.pt  \n",
            "  inflating: /content/so-vits-svc/dataset/44k/kiritan/000025.wav  \n",
            "  inflating: /content/so-vits-svc/dataset/44k/kiritan/000016.wav  \n",
            "  inflating: /content/so-vits-svc/dataset/44k/kiritan/000015.wav.soft.pt  \n",
            "  inflating: /content/so-vits-svc/dataset/44k/kiritan/000048.wav.f0.npy  \n",
            "  inflating: /content/so-vits-svc/dataset/44k/kiritan/000003.wav  \n",
            "  inflating: /content/so-vits-svc/dataset/44k/kiritan/000014.wav  \n",
            "  inflating: /content/so-vits-svc/dataset/44k/kiritan/000047.wav.soft.pt  \n",
            "  inflating: /content/so-vits-svc/dataset/44k/kiritan/000041.wav.soft.pt  \n",
            "  inflating: /content/so-vits-svc/dataset/44k/kiritan/000037.wav  \n",
            "  inflating: /content/so-vits-svc/dataset/44k/kiritan/000040.wav.f0.npy  \n",
            "  inflating: /content/so-vits-svc/dataset/44k/kiritan/000022.wav.f0.npy  \n",
            "  inflating: /content/so-vits-svc/dataset/44k/kiritan/000036.wav.soft.pt  \n",
            "  inflating: /content/so-vits-svc/dataset/44k/kiritan/000041.wav  \n",
            "  inflating: /content/so-vits-svc/dataset/44k/kiritan/000030.wav.soft.pt  \n",
            "  inflating: /content/so-vits-svc/dataset/44k/kiritan/000042.wav  \n",
            "  inflating: /content/so-vits-svc/dataset/44k/kiritan/000001.wav.soft.pt  \n",
            "  inflating: /content/so-vits-svc/dataset/44k/kiritan/000020.wav.f0.npy  \n",
            "  inflating: /content/so-vits-svc/dataset/44k/kiritan/000018.wav.f0.npy  \n",
            "  inflating: /content/so-vits-svc/dataset/44k/kiritan/000049.wav  \n",
            "  inflating: /content/so-vits-svc/dataset/44k/kiritan/000036.wav  \n"
          ]
        }
      ]
    },
    {
      "cell_type": "markdown",
      "source": [
        "# 训练"
      ],
      "metadata": {
        "id": "ENoH-pShel7w"
      }
    },
    {
      "cell_type": "code",
      "source": [
        "#@title  选择是否将训练后的模型保存到谷歌云盘 和 是否使用预模型\n",
        "\n",
        "#@markdown **将训练后的模型文件保存到谷歌云盘，勾选后，恢复训练时也需要勾选并执行**\n",
        "Save_to_drive = True #@param {type:\"boolean\"}\n",
        "if Save_to_drive:\n",
        "  !rm -rf /content/so-vits-svc/logs/44k\n",
        "  !mkdir -p /content/drive/MyDrive/44k\n",
        "  !ln -s /content/drive/MyDrive/44k /content/so-vits-svc/logs/44k\n",
        "\n",
        "#@markdown **首次训练下载预模型 之后继续训练则使用自己保存的记录点，无需再下载**\n",
        "\n",
        "#@markdown **使用预模型，下面打钩自动下载并启用**\n",
        "pre_pth = True #@param {type:\"boolean\"}\n",
        "if pre_pth:\n",
        "  !wget -P logs/44k/ https://huggingface.co/innnky/sovits_pretrained/resolve/main/sovits4/G_0.pth\n",
        "  !wget -P logs/44k/ https://huggingface.co/innnky/sovits_pretrained/resolve/main/sovits4/D_0.pth\n"
      ],
      "metadata": {
        "id": "l8J2ubh9KV5J",
        "colab": {
          "base_uri": "https://localhost:8080/"
        },
        "outputId": "bcd0e672-1992-4753-e569-f09f0fe0b70a"
      },
      "execution_count": null,
      "outputs": [
        {
          "output_type": "stream",
          "name": "stdout",
          "text": [
            "--2023-02-20 06:05:15--  https://huggingface.co/innnky/sovits_pretrained/resolve/main/sovits4/G_0.pth\n",
            "Resolving huggingface.co (huggingface.co)... 3.231.67.228, 54.235.118.239, 2600:1f18:147f:e800:671:b733:ecf3:a585, ...\n",
            "Connecting to huggingface.co (huggingface.co)|3.231.67.228|:443... connected.\n",
            "HTTP request sent, awaiting response... 302 Found\n",
            "Location: https://cdn-lfs.huggingface.co/repos/b8/68/b8680b5490e63bf5f140618c3ee2e5ccd0731956a87ab87a228c08398cd8e03c/20a327c54e5731bed377bd38404bc32ab98e66a1b2777b0af4cc034d4d6914b0?response-content-disposition=attachment%3B+filename*%3DUTF-8%27%27G_0.pth%3B+filename%3D%22G_0.pth%22%3B&Expires=1677132316&Policy=eyJTdGF0ZW1lbnQiOlt7IlJlc291cmNlIjoiaHR0cHM6Ly9jZG4tbGZzLmh1Z2dpbmdmYWNlLmNvL3JlcG9zL2I4LzY4L2I4NjgwYjU0OTBlNjNiZjVmMTQwNjE4YzNlZTJlNWNjZDA3MzE5NTZhODdhYjg3YTIyOGMwODM5OGNkOGUwM2MvMjBhMzI3YzU0ZTU3MzFiZWQzNzdiZDM4NDA0YmMzMmFiOThlNjZhMWIyNzc3YjBhZjRjYzAzNGQ0ZDY5MTRiMD9yZXNwb25zZS1jb250ZW50LWRpc3Bvc2l0aW9uPSoiLCJDb25kaXRpb24iOnsiRGF0ZUxlc3NUaGFuIjp7IkFXUzpFcG9jaFRpbWUiOjE2NzcxMzIzMTZ9fX1dfQ__&Signature=FWCLTmpip3TlTHtzH2Ok0t9-HLEKT1aKmqkx81UCHDHFibSex1H3JNKjadTGYcaF7kd6xA0dd75DgHONgWx8xvK90sQfcnrUYL11m5cP3Ugc-8v3CeRsZiOL4N-fAB9A4im5crCqodWart9BEOBuq5%7EuKjhEwQXs4TZxaxckGkfGj23SGOKrT6a1kZN12rW1Gx3Y-p1JMAVWpYsQGT-%7EvVH%7E2ib7IgaR0N2ys%7ETfsKSPDTnVehK23I7uAdroYNzmjztWSeECdcZOZu8PIanvEEUsSUdZivCowCZTUKaVhiOQsUfZYWKxn1c-aM%7EI9h9kmoTdS8q%7EX%7EHzeIs3G5%7Epwg__&Key-Pair-Id=KVTP0A1DKRTAX [following]\n",
            "--2023-02-20 06:05:15--  https://cdn-lfs.huggingface.co/repos/b8/68/b8680b5490e63bf5f140618c3ee2e5ccd0731956a87ab87a228c08398cd8e03c/20a327c54e5731bed377bd38404bc32ab98e66a1b2777b0af4cc034d4d6914b0?response-content-disposition=attachment%3B+filename*%3DUTF-8%27%27G_0.pth%3B+filename%3D%22G_0.pth%22%3B&Expires=1677132316&Policy=eyJTdGF0ZW1lbnQiOlt7IlJlc291cmNlIjoiaHR0cHM6Ly9jZG4tbGZzLmh1Z2dpbmdmYWNlLmNvL3JlcG9zL2I4LzY4L2I4NjgwYjU0OTBlNjNiZjVmMTQwNjE4YzNlZTJlNWNjZDA3MzE5NTZhODdhYjg3YTIyOGMwODM5OGNkOGUwM2MvMjBhMzI3YzU0ZTU3MzFiZWQzNzdiZDM4NDA0YmMzMmFiOThlNjZhMWIyNzc3YjBhZjRjYzAzNGQ0ZDY5MTRiMD9yZXNwb25zZS1jb250ZW50LWRpc3Bvc2l0aW9uPSoiLCJDb25kaXRpb24iOnsiRGF0ZUxlc3NUaGFuIjp7IkFXUzpFcG9jaFRpbWUiOjE2NzcxMzIzMTZ9fX1dfQ__&Signature=FWCLTmpip3TlTHtzH2Ok0t9-HLEKT1aKmqkx81UCHDHFibSex1H3JNKjadTGYcaF7kd6xA0dd75DgHONgWx8xvK90sQfcnrUYL11m5cP3Ugc-8v3CeRsZiOL4N-fAB9A4im5crCqodWart9BEOBuq5%7EuKjhEwQXs4TZxaxckGkfGj23SGOKrT6a1kZN12rW1Gx3Y-p1JMAVWpYsQGT-%7EvVH%7E2ib7IgaR0N2ys%7ETfsKSPDTnVehK23I7uAdroYNzmjztWSeECdcZOZu8PIanvEEUsSUdZivCowCZTUKaVhiOQsUfZYWKxn1c-aM%7EI9h9kmoTdS8q%7EX%7EHzeIs3G5%7Epwg__&Key-Pair-Id=KVTP0A1DKRTAX\n",
            "Resolving cdn-lfs.huggingface.co (cdn-lfs.huggingface.co)... 108.156.60.109, 108.156.60.37, 108.156.60.44, ...\n",
            "Connecting to cdn-lfs.huggingface.co (cdn-lfs.huggingface.co)|108.156.60.109|:443... connected.\n",
            "HTTP request sent, awaiting response... 200 OK\n",
            "Length: 180628517 (172M) [binary/octet-stream]\n",
            "Saving to: ‘logs/44k/G_0.pth’\n",
            "\n",
            "G_0.pth             100%[===================>] 172.26M  40.4MB/s    in 4.9s    \n",
            "\n",
            "2023-02-20 06:05:21 (35.2 MB/s) - ‘logs/44k/G_0.pth’ saved [180628517/180628517]\n",
            "\n",
            "--2023-02-20 06:05:21--  https://huggingface.co/innnky/sovits_pretrained/resolve/main/sovits4/D_0.pth\n",
            "Resolving huggingface.co (huggingface.co)... 54.235.118.239, 3.231.67.228, 2600:1f18:147f:e800:671:b733:ecf3:a585, ...\n",
            "Connecting to huggingface.co (huggingface.co)|54.235.118.239|:443... connected.\n",
            "HTTP request sent, awaiting response... 302 Found\n",
            "Location: https://cdn-lfs.huggingface.co/repos/b8/68/b8680b5490e63bf5f140618c3ee2e5ccd0731956a87ab87a228c08398cd8e03c/635be5c3409aaf3eec4135a1f5a771595683f3a6461ffc5bdea43441e50269a9?response-content-disposition=attachment%3B+filename*%3DUTF-8%27%27D_0.pth%3B+filename%3D%22D_0.pth%22%3B&Expires=1677132322&Policy=eyJTdGF0ZW1lbnQiOlt7IlJlc291cmNlIjoiaHR0cHM6Ly9jZG4tbGZzLmh1Z2dpbmdmYWNlLmNvL3JlcG9zL2I4LzY4L2I4NjgwYjU0OTBlNjNiZjVmMTQwNjE4YzNlZTJlNWNjZDA3MzE5NTZhODdhYjg3YTIyOGMwODM5OGNkOGUwM2MvNjM1YmU1YzM0MDlhYWYzZWVjNDEzNWExZjVhNzcxNTk1NjgzZjNhNjQ2MWZmYzViZGVhNDM0NDFlNTAyNjlhOT9yZXNwb25zZS1jb250ZW50LWRpc3Bvc2l0aW9uPSoiLCJDb25kaXRpb24iOnsiRGF0ZUxlc3NUaGFuIjp7IkFXUzpFcG9jaFRpbWUiOjE2NzcxMzIzMjJ9fX1dfQ__&Signature=S-cUN5PTNSPrOsIx5bMOiIl07rbAQIvOX88WaHQzEgvzMV38L-0yJadRe6YtjWon0SC7yTw8U1spcrEWx311GmIK5lDR4V8Ln%7EPO5Wqt6FTtZbOkJLxYeD0Q31Gl8uvMw0cJZAeL93EznZKpLpixtxKG0gRwISoul1nItV496JtJJ3qdiwyO9uir22JjowErQmd5KWwVSvRidTwJaSUCf0QY9iT%7EfNJLhuWmTAW6fT5m4D9hvbwFNaZA9MNOgP7RP0Qp6s0nxu-xszoS9EHbsqkwL9-xNSIq4qf9stpyt3xOqUSapUN0885AIdxSXQX8dJxgVFq9M-YI0ISoQ89EIA__&Key-Pair-Id=KVTP0A1DKRTAX [following]\n",
            "--2023-02-20 06:05:21--  https://cdn-lfs.huggingface.co/repos/b8/68/b8680b5490e63bf5f140618c3ee2e5ccd0731956a87ab87a228c08398cd8e03c/635be5c3409aaf3eec4135a1f5a771595683f3a6461ffc5bdea43441e50269a9?response-content-disposition=attachment%3B+filename*%3DUTF-8%27%27D_0.pth%3B+filename%3D%22D_0.pth%22%3B&Expires=1677132322&Policy=eyJTdGF0ZW1lbnQiOlt7IlJlc291cmNlIjoiaHR0cHM6Ly9jZG4tbGZzLmh1Z2dpbmdmYWNlLmNvL3JlcG9zL2I4LzY4L2I4NjgwYjU0OTBlNjNiZjVmMTQwNjE4YzNlZTJlNWNjZDA3MzE5NTZhODdhYjg3YTIyOGMwODM5OGNkOGUwM2MvNjM1YmU1YzM0MDlhYWYzZWVjNDEzNWExZjVhNzcxNTk1NjgzZjNhNjQ2MWZmYzViZGVhNDM0NDFlNTAyNjlhOT9yZXNwb25zZS1jb250ZW50LWRpc3Bvc2l0aW9uPSoiLCJDb25kaXRpb24iOnsiRGF0ZUxlc3NUaGFuIjp7IkFXUzpFcG9jaFRpbWUiOjE2NzcxMzIzMjJ9fX1dfQ__&Signature=S-cUN5PTNSPrOsIx5bMOiIl07rbAQIvOX88WaHQzEgvzMV38L-0yJadRe6YtjWon0SC7yTw8U1spcrEWx311GmIK5lDR4V8Ln%7EPO5Wqt6FTtZbOkJLxYeD0Q31Gl8uvMw0cJZAeL93EznZKpLpixtxKG0gRwISoul1nItV496JtJJ3qdiwyO9uir22JjowErQmd5KWwVSvRidTwJaSUCf0QY9iT%7EfNJLhuWmTAW6fT5m4D9hvbwFNaZA9MNOgP7RP0Qp6s0nxu-xszoS9EHbsqkwL9-xNSIq4qf9stpyt3xOqUSapUN0885AIdxSXQX8dJxgVFq9M-YI0ISoQ89EIA__&Key-Pair-Id=KVTP0A1DKRTAX\n",
            "Resolving cdn-lfs.huggingface.co (cdn-lfs.huggingface.co)... 108.156.60.109, 108.156.60.37, 108.156.60.44, ...\n",
            "Connecting to cdn-lfs.huggingface.co (cdn-lfs.huggingface.co)|108.156.60.109|:443... connected.\n",
            "HTTP request sent, awaiting response... 200 OK\n",
            "Length: 187018591 (178M) [binary/octet-stream]\n",
            "Saving to: ‘logs/44k/D_0.pth’\n",
            "\n",
            "D_0.pth             100%[===================>] 178.35M  40.8MB/s    in 5.0s    \n",
            "\n",
            "2023-02-20 06:05:27 (35.9 MB/s) - ‘logs/44k/D_0.pth’ saved [187018591/187018591]\n",
            "\n"
          ]
        }
      ]
    },
    {
      "cell_type": "code",
      "source": [
        "#@title  开始训练\n",
        "\n",
        "#@markdown **开始训练**\n",
        "\n",
        "#@markdown **启用tensorboard可视化数据**\n",
        "tensorboard_on = True #@param {type:\"boolean\"}\n",
        "if tensorboard_on:\n",
        "  %load_ext tensorboard\n",
        "  %tensorboard --logdir logs/44k\n",
        "\n",
        "!python train.py -c configs/config.json -m 44k\n"
      ],
      "metadata": {
        "id": "-hEFFTCfZf57",
        "cellView": "form"
      },
      "execution_count": null,
      "outputs": []
    },
    {
      "cell_type": "code",
      "source": [
        "#@title 手动将训练后的模型文件备份到谷歌云盘\n",
        "#@markdown 需要自己查看/content/so-vits-svc/logs/44k/文件夹下模型的文件名，手动修改下方命令末尾的文件名\n",
        "!mv /content/so-vits-svc/logs/44k/G_1000.pth /content/drive/MyDrive\n",
        "!mv /content/so-vits-svc/logs/44k/D_1000.pth /content/drive/MyDrive"
      ],
      "metadata": {
        "id": "KiNCWprSPlKH",
        "cellView": "form"
      },
      "execution_count": null,
      "outputs": []
    },
    {
      "cell_type": "markdown",
      "source": [
        "# 推理"
      ],
      "metadata": {
        "id": "oCnbX-OT897k"
      }
    },
    {
      "cell_type": "code",
      "source": [
        "#@title 合成音频（推理）\n",
        "#@markdown 需要将音频上传到so-vits-svc/raw 文件夹下, 然后设置模型路径、配置文件路径、合成的音频名称\n",
        "\n",
        "!python inference_main.py -m \"logs/44k/G_1600.pth\" -c \"configs/config.json\" -n \"君の知らない物語-src.wav\" -s kiritan\n"
      ],
      "metadata": {
        "colab": {
          "base_uri": "https://localhost:8080/"
        },
        "cellView": "form",
        "id": "dYnKuKTIj3z1",
        "outputId": "f1d27b7b-1fb6-4aca-ea1b-15e5b52ced57"
      },
      "execution_count": null,
      "outputs": [
        {
          "output_type": "stream",
          "name": "stdout",
          "text": [
            "load model(s) from hubert/checkpoint_best_legacy_500.pt\n",
            "INFO:fairseq.tasks.text_to_speech:Please install tensorboardX: pip install tensorboardX\n",
            "INFO:fairseq.tasks.hubert_pretraining:current directory is /content/so-vits-svc\n",
            "INFO:fairseq.tasks.hubert_pretraining:HubertPretrainingTask Config {'_name': 'hubert_pretraining', 'data': 'metadata', 'fine_tuning': False, 'labels': ['km'], 'label_dir': 'label', 'label_rate': 50.0, 'sample_rate': 16000, 'normalize': False, 'enable_padding': False, 'max_keep_size': None, 'max_sample_size': 250000, 'min_sample_size': 32000, 'single_target': False, 'random_crop': True, 'pad_audio': False}\n",
            "INFO:fairseq.models.hubert.hubert:HubertModel Config: {'_name': 'hubert', 'label_rate': 50.0, 'extractor_mode': default, 'encoder_layers': 12, 'encoder_embed_dim': 768, 'encoder_ffn_embed_dim': 3072, 'encoder_attention_heads': 12, 'activation_fn': gelu, 'layer_type': transformer, 'dropout': 0.1, 'attention_dropout': 0.1, 'activation_dropout': 0.0, 'encoder_layerdrop': 0.05, 'dropout_input': 0.1, 'dropout_features': 0.1, 'final_dim': 256, 'untie_final_proj': True, 'layer_norm_first': False, 'conv_feature_layers': '[(512,10,5)] + [(512,3,2)] * 4 + [(512,2,2)] * 2', 'conv_bias': False, 'logit_temp': 0.1, 'target_glu': False, 'feature_grad_mult': 0.1, 'mask_length': 10, 'mask_prob': 0.8, 'mask_selection': static, 'mask_other': 0.0, 'no_mask_overlap': False, 'mask_min_space': 1, 'mask_channel_length': 10, 'mask_channel_prob': 0.0, 'mask_channel_selection': static, 'mask_channel_other': 0.0, 'no_mask_channel_overlap': False, 'mask_channel_min_space': 1, 'conv_pos': 128, 'conv_pos_groups': 16, 'latent_temp': [2.0, 0.5, 0.999995], 'skip_masked': False, 'skip_nomask': False, 'checkpoint_activations': False, 'required_seq_len_multiple': 2, 'depthwise_conv_kernel_size': 31, 'attn_type': '', 'pos_enc_type': 'abs', 'fp16': False}\n",
            "load \n",
            "INFO:root:Loaded checkpoint 'logs/44k/G_1600.pth' (iteration 201)\n",
            "#=====segment start, 11.598s======\n",
            "vits use time:0.93231201171875\n",
            "\u001b[0m"
          ]
        }
      ]
    }
  ]
}