{
  "cells": [
    {
      "cell_type": "markdown",
      "metadata": {
        "id": "view-in-github",
        "colab_type": "text"
      },
      "source": [
        "<a href=\"https://colab.research.google.com/github/Domefy/AI/blob/main/ArcaneGANv0_4_for_videos_public.ipynb\" target=\"_parent\"><img src=\"https://colab.research.google.com/assets/colab-badge.svg\" alt=\"Open In Colab\"/></a>"
      ]
    },
    {
      "cell_type": "markdown",
      "metadata": {
        "id": "vDbVqqF0rig8"
      },
      "source": [
        "An inference notebook for [ArcaneGAN v0.4](https://github.com/Sxela/ArcaneGAN/releases/tag/v0.4).\n",
        "Made by [Alex Spirin](https://twitter.com/devdef)\n",
        "\n",
        "If you like what I'm doing you can tip me [here](https://donationalerts.com/r/derplearning) or follow on [Patreon](https://www.patreon.com/sxela)\n",
        "\n",
        "![visitors](https://visitor-badge.glitch.me/badge?page_id=sxela_arcanegan_video_colab)\n",
        "\n",
        "This notebook is mostly based this [colab](https://huggingface.co/spaces/nateraw/animegan-v2-for-videos/blob/main/animegan_v2_for_videos.ipynb) by [@nateraw](https://twitter.com/_nateraw)\n",
        "\n"
      ]
    },
    {
      "cell_type": "code",
      "execution_count": null,
      "metadata": {
        "id": "dufmM-T1Helt"
      },
      "outputs": [],
      "source": [
        "%%capture\n",
        "! pip install gradio encoded-video"
      ]
    },
    {
      "cell_type": "code",
      "execution_count": null,
      "metadata": {
        "id": "9CY3n8A0Lvdi"
      },
      "outputs": [],
      "source": [
        "import gc\n",
        "import math\n",
        "import tempfile\n",
        "from PIL import Image\n",
        "from io import BytesIO\n",
        "\n",
        "import torch\n",
        "import gradio as gr\n",
        "import numpy as np\n",
        "from encoded_video import EncodedVideo, write_video\n",
        "from torchvision.transforms.functional import to_tensor, center_crop"
      ]
    },
    {
      "cell_type": "code",
      "execution_count": null,
      "metadata": {
        "colab": {
          "base_uri": "https://localhost:8080/"
        },
        "id": "TYAyXUP1UeOd",
        "outputId": "4345e074-3492-4641-df4f-465a17c08aaf"
      },
      "outputs": [
        {
          "output_type": "stream",
          "name": "stdout",
          "text": [
            "  % Total    % Received % Xferd  Average Speed   Time    Time     Time  Current\n",
            "                                 Dload  Upload   Total   Spent    Left  Speed\n",
            "100 5557k  100 5557k    0     0  12.1M      0 --:--:-- --:--:-- --:--:-- 12.1M\n"
          ]
        }
      ],
      "source": [
        "! curl https://upload.wikimedia.org/wikipedia/commons/transcoded/2/29/2017-01-07_President_Obama%27s_Weekly_Address.webm/2017-01-07_President_Obama%27s_Weekly_Address.webm.360p.vp9.webm -o obama.webm"
      ]
    },
    {
      "cell_type": "code",
      "execution_count": null,
      "metadata": {
        "id": "vrqJX8tqsR8K"
      },
      "outputs": [],
      "source": [
        "import os\n",
        "os.system(\"wget https://github.com/Sxela/ArcaneGAN/releases/download/v0.4/ArcaneGANv0.4.jit\")\n",
        "model = torch.jit.load('./ArcaneGANv0.4.jit').cuda().eval().half()"
      ]
    },
    {
      "cell_type": "code",
      "execution_count": null,
      "metadata": {
        "id": "TxT45Nlc88tD"
      },
      "outputs": [],
      "source": [
        "means = [0.485, 0.456, 0.406]\n",
        "stds = [0.229, 0.224, 0.225]\n",
        "\n",
        "from torchvision import transforms\n",
        "norm = transforms.Normalize(means,stds)\n",
        "\n",
        "# This function is taken from pytorchvideo!\n",
        "def uniform_temporal_subsample(x: torch.Tensor, num_samples: int, temporal_dim: int = -3) -> torch.Tensor:\n",
        "    \"\"\"\n",
        "    Uniformly subsamples num_samples indices from the temporal dimension of the video.\n",
        "    When num_samples is larger than the size of temporal dimension of the video, it\n",
        "    will sample frames based on nearest neighbor interpolation.\n",
        "    Args:\n",
        "        x (torch.Tensor): A video tensor with dimension larger than one with torch\n",
        "            tensor type includes int, long, float, complex, etc.\n",
        "        num_samples (int): The number of equispaced samples to be selected\n",
        "        temporal_dim (int): dimension of temporal to perform temporal subsample.\n",
        "    Returns:\n",
        "        An x-like Tensor with subsampled temporal dimension.\n",
        "    \"\"\"\n",
        "    t = x.shape[temporal_dim]\n",
        "    assert num_samples > 0 and t > 0\n",
        "    # Sample by nearest neighbor interpolation if num_samples > t.\n",
        "    indices = torch.linspace(0, t - 1, num_samples)\n",
        "    indices = torch.clamp(indices, 0, t - 1).long()\n",
        "    return torch.index_select(x, temporal_dim, indices)\n",
        "    \n",
        "def makeEven(_x):\n",
        "  return _x if (_x % 2 == 0) else _x+1\n",
        "\n",
        "def short_side_scale(\n",
        "    x: torch.Tensor,\n",
        "    size: int,\n",
        "    interpolation: str = \"bilinear\",\n",
        ") -> torch.Tensor:\n",
        "    \"\"\"\n",
        "    Determines the shorter spatial dim of the video (i.e. width or height) and scales\n",
        "    it to the given size. To maintain aspect ratio, the longer side is then scaled\n",
        "    accordingly.\n",
        "    Args:\n",
        "        x (torch.Tensor): A video tensor of shape (C, T, H, W) and type torch.float32.\n",
        "        size (int): The size the shorter side is scaled to.\n",
        "        interpolation (str): Algorithm used for upsampling,\n",
        "            options: nearest' | 'linear' | 'bilinear' | 'bicubic' | 'trilinear' | 'area'\n",
        "    Returns:\n",
        "        An x-like Tensor with scaled spatial dims.\n",
        "    \"\"\"\n",
        "    assert len(x.shape) == 4\n",
        "    assert x.dtype == torch.float32\n",
        "    c, t, h, w = x.shape\n",
        "    if w < h:\n",
        "        new_h = int(math.floor((float(h) / w) * size))\n",
        "        new_w = size\n",
        "    else:\n",
        "        new_h = size\n",
        "        new_w = int(math.floor((float(w) / h) * size))\n",
        "\n",
        "    return torch.nn.functional.interpolate(\n",
        "        x, size=(makeEven(new_h), makeEven(new_w)), mode=interpolation, align_corners=False\n",
        "    )\n",
        "\n",
        "norms = torch.tensor([0.485, 0.456, 0.406])[None,:,None,None].cuda()\n",
        "stds = torch.tensor([0.229, 0.224, 0.225])[None,:,None,None].cuda()\n",
        "\n",
        "def inference_step(vid, start_sec, duration, out_fps, interpolate):\n",
        "    clip = vid.get_clip(start_sec, start_sec + duration)\n",
        "    video_arr = torch.from_numpy(clip['video']).permute(3, 0, 1, 2)\n",
        "    audio_arr = np.expand_dims(clip['audio'], 0)\n",
        "    audio_fps = None if not vid._has_audio else vid._container.streams.audio[0].sample_rate\n",
        "    x = uniform_temporal_subsample(video_arr,  duration * out_fps)\n",
        "    # x = center_crop(short_side_scale(x, 512), 512)\n",
        "    x = short_side_scale(x, 512)\n",
        "    x /= 255.\n",
        "    x = x.permute(1, 0, 2, 3)\n",
        "    x = norm(x)\n",
        "    with torch.no_grad():\n",
        "        output = model(x.to('cuda').half())\n",
        "        output = (output * stds + norms).clip(0, 1) * 255.\n",
        "        output_video = output.permute(0, 2, 3, 1).float().detach().cpu().numpy()\n",
        "        if interpolate == 'Yes': output_video[1:] = output_video[1:]*(0.5) + output_video[:-1]*(0.5)\n",
        "    \n",
        "    return output_video, audio_arr, out_fps, audio_fps\n",
        "def predict_fn(filepath, start_sec, duration, out_fps, interpolate):\n",
        "    # out_fps=12\n",
        "    vid = EncodedVideo.from_path(filepath)\n",
        "    for i in range(duration):\n",
        "        video, audio, fps, audio_fps = inference_step(\n",
        "            vid = vid,\n",
        "            start_sec = i + start_sec,\n",
        "            duration = 1,\n",
        "            out_fps = out_fps,\n",
        "            interpolate = interpolate\n",
        "        )\n",
        "        gc.collect()\n",
        "        if i == 0:\n",
        "            video_all = video\n",
        "            audio_all = audio\n",
        "        else:\n",
        "            video_all = np.concatenate((video_all, video))\n",
        "            audio_all = np.hstack((audio_all, audio))\n",
        "    write_video(\n",
        "        'out.mp4',\n",
        "        video_all,\n",
        "        fps=fps,\n",
        "        audio_array=audio_all,\n",
        "        audio_fps=audio_fps,\n",
        "        audio_codec='aac'\n",
        "    )\n",
        "    del video_all\n",
        "    del audio_all\n",
        "    \n",
        "    return 'out.mp4'\n",
        "title = \"ArcaneGAN\"\n",
        "description = \"Gradio demo for ArcaneGAN, video to Arcane style. To use it, simply upload your video, or click on an example below. Follow me on twitter for more info and updates.\"\n",
        "article = \"<div style='text-align: center;'>ArcaneGan by <a href='https://twitter.com/devdef' target='_blank'>Alex Spirin</a> | <a href='https://github.com/Sxela/ArcaneGAN' target='_blank'>Github Repo</a> | <center><img src='https://visitor-badge.glitch.me/badge?page_id=sxela_arcanegan_video_hf' alt='visitor badge'></center></div>\"\n",
        "gr.Interface(\n",
        "    predict_fn,\n",
        "    inputs=[gr.inputs.Video(), gr.inputs.Slider(minimum=0, maximum=300, step=1, default=0), gr.inputs.Slider(minimum=1, maximum=20, step=1, default=2), gr.inputs.Slider(minimum=12, maximum=30, step=6, default=24), gr.inputs.Radio(choices=['Yes','No'], type=\"value\", default='Yes', label='Remove flickering')],\n",
        "    outputs=gr.outputs.Video(),\n",
        "    title='ArcaneGAN On Videos',\n",
        "    description = description,\n",
        "    article = article,\n",
        "    enable_queue=True,\n",
        "    examples=[\n",
        "        ['obama.webm', 23, 10, 30],\n",
        "    ],\n",
        "    allow_flagging=False\n",
        ").launch(debug=True)"
      ]
    },
    {
      "cell_type": "code",
      "execution_count": null,
      "metadata": {
        "id": "XPFgCD5uYAS7"
      },
      "outputs": [],
      "source": [
        ""
      ]
    }
  ],
  "metadata": {
    "accelerator": "GPU",
    "colab": {
      "collapsed_sections": [],
      "name": "ArcaneGANv0.4 for videos public.ipynb",
      "provenance": [],
      "include_colab_link": true
    },
    "kernelspec": {
      "display_name": "Python 3",
      "name": "python3"
    },
    "language_info": {
      "name": "python"
    }
  },
  "nbformat": 4,
  "nbformat_minor": 0
}